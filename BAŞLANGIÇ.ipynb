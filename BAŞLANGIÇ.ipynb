{
 "cells": [
  {
   "cell_type": "code",
   "execution_count": 1,
   "id": "ed7693f1-c69d-4a2d-b5ce-429d1b6d7e41",
   "metadata": {},
   "outputs": [
    {
     "name": "stdout",
     "output_type": "stream",
     "text": [
      "Ece'ye \n",
      " anlat\n"
     ]
    }
   ],
   "source": [
    "print(\"Ece'ye \\n anlat\")"
   ]
  },
  {
   "cell_type": "code",
   "execution_count": 22,
   "id": "b53f8d9e-72f3-4c7a-a5fd-f783730e21f8",
   "metadata": {},
   "outputs": [
    {
     "name": "stdout",
     "output_type": "stream",
     "text": [
      "Benim adım mesut yaşım 32\n"
     ]
    }
   ],
   "source": [
    "print(\"Benim adım {AD} yaşım {YAS}\" .format('mesut',32))"
   ]
  },
  {
   "cell_type": "code",
   "execution_count": 28,
   "id": "740f612a-e51b-4afd-96c8-d50591a2e0a9",
   "metadata": {},
   "outputs": [
    {
     "name": "stdout",
     "output_type": "stream",
     "text": [
      "Benim adım mesut yaşım 32\n",
      "Benim adım 32 yaşım mesut\n",
      "Benim adım mesut yaşım 32\n",
      "Benim adım 32 yaşım mesut\n"
     ]
    }
   ],
   "source": [
    "print(\"Benim adım {0} yaşım {1}\" .format('mesut',32))\n",
    "print(\"Benim adım {1} yaşım {0}\" .format('mesut',32))\n",
    "print(\"Benim adım {ad} yaşım {yas}\" .format(ad='mesut',yas=32))\n",
    "print(\"Benim adım {ad} yaşım {yas}\" .format(yas='mesut',ad=32))"
   ]
  },
  {
   "cell_type": "code",
   "execution_count": 32,
   "id": "0ec02676-5810-4de1-8ec1-fffb07ae9cbc",
   "metadata": {},
   "outputs": [],
   "source": [
    "#değişkenler sayı ile başlayamaz (1.sayi vb.) boşluk içeremez (sayi 1 vb.) semboller içeremez (/*-+() vb.)\n"
   ]
  },
  {
   "cell_type": "code",
   "execution_count": 3,
   "id": "1b67caa2-7f27-4f41-afe6-3d455de06781",
   "metadata": {},
   "outputs": [
    {
     "data": {
      "text/plain": [
       "10"
      ]
     },
     "execution_count": 3,
     "metadata": {},
     "output_type": "execute_result"
    }
   ],
   "source": [
    "sayi = 10  #NOT: int char gibi şeylerle belirtmemize gerek yok!\n",
    "sayi"
   ]
  },
  {
   "cell_type": "code",
   "execution_count": 38,
   "id": "be8fedc7-69c1-4d6d-8a24-61f4b56a9806",
   "metadata": {},
   "outputs": [
    {
     "name": "stdout",
     "output_type": "stream",
     "text": [
      "20\n"
     ]
    }
   ],
   "source": [
    "#sayi'yı 10 atadıktan sonra değiştirebiliriz tekrar yazdıracağımız zaman güncel halini yazar\n",
    "sayi = 20\n",
    "print (sayi)"
   ]
  },
  {
   "cell_type": "code",
   "execution_count": 40,
   "id": "af9726f7-8048-4407-83c5-40d9d13c373f",
   "metadata": {},
   "outputs": [
    {
     "name": "stdout",
     "output_type": "stream",
     "text": [
      "25\n"
     ]
    }
   ],
   "source": [
    "sayi = sayi + 5\n",
    "print (sayi)"
   ]
  },
  {
   "cell_type": "code",
   "execution_count": 42,
   "id": "05d3fd84-85ce-4167-bd9b-ce92c245cd4e",
   "metadata": {},
   "outputs": [
    {
     "name": "stdout",
     "output_type": "stream",
     "text": [
      "28\n"
     ]
    }
   ],
   "source": [
    "sayi +=3\n",
    "print (sayi)"
   ]
  },
  {
   "cell_type": "code",
   "execution_count": 44,
   "id": "f784ff4f-3c51-4a68-a447-d7748c6ea0d3",
   "metadata": {},
   "outputs": [
    {
     "name": "stdout",
     "output_type": "stream",
     "text": [
      "10\n"
     ]
    }
   ],
   "source": [
    "sayi_ilk = 10\n",
    "print(sayi_ilk)"
   ]
  },
  {
   "cell_type": "code",
   "execution_count": 46,
   "id": "15e75257-1ec7-4c51-9f9a-172407a6b6b4",
   "metadata": {},
   "outputs": [
    {
     "name": "stdout",
     "output_type": "stream",
     "text": [
      "28\n"
     ]
    }
   ],
   "source": [
    "print(sayi)"
   ]
  },
  {
   "cell_type": "code",
   "execution_count": 60,
   "id": "e70fef42-e040-432c-8f19-ae5420f60a76",
   "metadata": {},
   "outputs": [
    {
     "data": {
      "text/plain": [
       "'324'"
      ]
     },
     "execution_count": 60,
     "metadata": {},
     "output_type": "execute_result"
    }
   ],
   "source": [
    "A= '32'#tırnak içinde yazdığım için string olarak algılıyor\n",
    "b= '4'\n",
    "A+b #jupyter notebookda print yazmaya gerek yok çoğu zaman Not: başka bir ide kullanılacaksa düzeltilmesi yani print yazılması gerek"
   ]
  },
  {
   "cell_type": "code",
   "execution_count": 62,
   "id": "5cc03d37-a06a-4955-abd9-dae430f5e6b6",
   "metadata": {},
   "outputs": [
    {
     "data": {
      "text/plain": [
       "str"
      ]
     },
     "execution_count": 62,
     "metadata": {},
     "output_type": "execute_result"
    }
   ],
   "source": [
    "type(A+b)  #type komutu içine yazılan verinin tipini belirtiyor"
   ]
  },
  {
   "cell_type": "code",
   "execution_count": 64,
   "id": "2765c7b1-4d78-40b1-87a2-f90aabb655b7",
   "metadata": {
    "scrolled": true
   },
   "outputs": [
    {
     "data": {
      "text/plain": [
       "7"
      ]
     },
     "execution_count": 64,
     "metadata": {},
     "output_type": "execute_result"
    }
   ],
   "source": [
    "3+4"
   ]
  },
  {
   "cell_type": "code",
   "execution_count": 76,
   "id": "4cf4703c-a560-4e0a-a358-a873f8a86a6c",
   "metadata": {},
   "outputs": [
    {
     "data": {
      "text/plain": [
       "4"
      ]
     },
     "execution_count": 76,
     "metadata": {},
     "output_type": "execute_result"
    }
   ],
   "source": [
    "int(20/5)#normalde bölme işleminde float olarak algılar int algılasın diye başına int yazıyoruz ve 4 sonucunu veriyor"
   ]
  },
  {
   "cell_type": "code",
   "execution_count": 68,
   "id": "d8c161e5-7054-4d04-ae7d-8d31239d062c",
   "metadata": {
    "scrolled": true
   },
   "outputs": [
    {
     "data": {
      "text/plain": [
       "3"
      ]
     },
     "execution_count": 68,
     "metadata": {},
     "output_type": "execute_result"
    }
   ],
   "source": [
    "3%4"
   ]
  },
  {
   "cell_type": "code",
   "execution_count": 7,
   "id": "7eb9d9ed-338b-4595-93d5-073740cfd55a",
   "metadata": {
    "scrolled": true
   },
   "outputs": [
    {
     "data": {
      "text/plain": [
       "12.0"
      ]
     },
     "execution_count": 7,
     "metadata": {},
     "output_type": "execute_result"
    }
   ],
   "source": [
    "3*4"
   ]
  },
  {
   "cell_type": "code",
   "execution_count": 11,
   "id": "cb15faaa-5151-4616-a8a5-b717e559e1d1",
   "metadata": {},
   "outputs": [
    {
     "data": {
      "text/plain": [
       "0.75"
      ]
     },
     "execution_count": 11,
     "metadata": {},
     "output_type": "execute_result"
    }
   ],
   "source": [
    "3/4 #otomatik olarak kendisi float olarak algılıyor "
   ]
  },
  {
   "cell_type": "code",
   "execution_count": 78,
   "id": "cf9cce0c-e6fa-4220-b4ef-5daeac2b6021",
   "metadata": {},
   "outputs": [
    {
     "data": {
      "text/plain": [
       "1.0"
      ]
     },
     "execution_count": 78,
     "metadata": {},
     "output_type": "execute_result"
    }
   ],
   "source": [
    "5/5"
   ]
  },
  {
   "cell_type": "code",
   "execution_count": 80,
   "id": "7a985c79-6b38-476f-b969-aaa875459f2a",
   "metadata": {},
   "outputs": [
    {
     "data": {
      "text/plain": [
       "8"
      ]
     },
     "execution_count": 80,
     "metadata": {},
     "output_type": "execute_result"
    }
   ],
   "source": [
    "3*4\n",
    "3+5 #her ikisini de çalıştırmaz sadece en sonda ne yazdıysak onu çalıştırır"
   ]
  },
  {
   "cell_type": "code",
   "execution_count": 82,
   "id": "02f3443b-9c46-41e5-9778-c2874ab524b6",
   "metadata": {},
   "outputs": [
    {
     "name": "stdout",
     "output_type": "stream",
     "text": [
      "12\n",
      "8\n"
     ]
    }
   ],
   "source": [
    "print(3*4) #başlarına print koyduğumuz için ikisini birden çalıştırır\n",
    "print(3+5)"
   ]
  },
  {
   "cell_type": "code",
   "execution_count": 84,
   "id": "d1497b13-ee0c-447d-b02d-511645712444",
   "metadata": {},
   "outputs": [
    {
     "data": {
      "text/plain": [
       "13"
      ]
     },
     "execution_count": 84,
     "metadata": {},
     "output_type": "execute_result"
    }
   ],
   "source": [
    "3+2*5 #işlem önceliğini biliyor"
   ]
  },
  {
   "cell_type": "code",
   "execution_count": 86,
   "id": "0e49668e-b3fb-43a2-ad81-df8c92c8d737",
   "metadata": {},
   "outputs": [
    {
     "data": {
      "text/plain": [
       "15.5"
      ]
     },
     "execution_count": 86,
     "metadata": {},
     "output_type": "execute_result"
    }
   ],
   "source": [
    "3.1*5 #iki farklı veri tipini aynı anda kullanabiliriz"
   ]
  },
  {
   "cell_type": "code",
   "execution_count": 88,
   "id": "473f6c40-1d07-448a-8de7-dc83dc35565d",
   "metadata": {
    "scrolled": true
   },
   "outputs": [
    {
     "data": {
      "text/plain": [
       "15.0"
      ]
     },
     "execution_count": 88,
     "metadata": {},
     "output_type": "execute_result"
    }
   ],
   "source": [
    "3.0*5 # ikisinin de ortak özelliği float olması olduğu için float döndürür"
   ]
  },
  {
   "cell_type": "code",
   "execution_count": null,
   "id": "687be9c9-3194-41ac-9b1e-d8f45ce2a017",
   "metadata": {},
   "outputs": [],
   "source": [
    "# P |Y |T |H |O |N\n",
    "# 0 |1 |2 |3 |4 |5\n",
    "# 0 |-5|-4|-3|-2-1    burada başlangıç yine 0 olmak üzere geriden saymaya da başlanabilir python bunu da algılar"
   ]
  },
  {
   "cell_type": "code",
   "execution_count": 90,
   "id": "a5892bac-d282-425c-9134-1a27a14225be",
   "metadata": {},
   "outputs": [
    {
     "name": "stdout",
     "output_type": "stream",
     "text": [
      "PYTHON\n"
     ]
    }
   ],
   "source": [
    "strvar= 'PYTHON'\n",
    "print(strvar)"
   ]
  },
  {
   "cell_type": "code",
   "execution_count": 94,
   "id": "d481a8aa-1c4c-4941-a3d3-551008d63c81",
   "metadata": {},
   "outputs": [
    {
     "data": {
      "text/plain": [
       "'T'"
      ]
     },
     "execution_count": 94,
     "metadata": {},
     "output_type": "execute_result"
    }
   ],
   "source": [
    "strvar[2]"
   ]
  },
  {
   "cell_type": "code",
   "execution_count": 96,
   "id": "514a544d-3b26-4323-bd12-7be297af240b",
   "metadata": {},
   "outputs": [
    {
     "data": {
      "text/plain": [
       "'O'"
      ]
     },
     "execution_count": 96,
     "metadata": {},
     "output_type": "execute_result"
    }
   ],
   "source": [
    "strvar[-2]"
   ]
  },
  {
   "cell_type": "code",
   "execution_count": 98,
   "id": "a0d61bbc-5a97-401e-83e8-122fd4c7a124",
   "metadata": {},
   "outputs": [
    {
     "data": {
      "text/plain": [
       "'THON'"
      ]
     },
     "execution_count": 98,
     "metadata": {},
     "output_type": "execute_result"
    }
   ],
   "source": [
    "strvar[2:] #2. indexten itibaren yazacak"
   ]
  },
  {
   "cell_type": "code",
   "execution_count": 107,
   "id": "580b70c4-060b-4ef3-a05d-130875700af1",
   "metadata": {},
   "outputs": [
    {
     "data": {
      "text/plain": [
       "'PYT'"
      ]
     },
     "execution_count": 107,
     "metadata": {},
     "output_type": "execute_result"
    }
   ],
   "source": [
    "strvar[:3] #3. indexe kadar yazacak"
   ]
  },
  {
   "cell_type": "code",
   "execution_count": 105,
   "id": "2808a374-0674-4a26-8b21-c482b8f12419",
   "metadata": {},
   "outputs": [
    {
     "data": {
      "text/plain": [
       "'ON'"
      ]
     },
     "execution_count": 105,
     "metadata": {},
     "output_type": "execute_result"
    }
   ],
   "source": [
    "strvar[-2:] #-2. indexten itibaren yazacak"
   ]
  },
  {
   "cell_type": "code",
   "execution_count": 111,
   "id": "c56a9d4f-d769-4f6b-b170-512fcc275dc7",
   "metadata": {},
   "outputs": [
    {
     "data": {
      "text/plain": [
       "'YTH'"
      ]
     },
     "execution_count": 111,
     "metadata": {},
     "output_type": "execute_result"
    }
   ],
   "source": [
    "strvar[1:4] #1. indexten 4. indexe kadar yazacak NOT: ilk yazdığın index (1) alınır ikinci yazdığın index (4) alınmaz"
   ]
  },
  {
   "cell_type": "code",
   "execution_count": 113,
   "id": "a0490c85-ea05-43dd-9ca6-95302050a3be",
   "metadata": {},
   "outputs": [
    {
     "data": {
      "text/plain": [
       "'PTO'"
      ]
     },
     "execution_count": 113,
     "metadata": {},
     "output_type": "execute_result"
    }
   ],
   "source": [
    "strvar[::2] #baştan başlayıp 2şer atlayarak yazacak"
   ]
  },
  {
   "cell_type": "code",
   "execution_count": 115,
   "id": "e486f12d-24c7-41b6-9743-ca74707a7a90",
   "metadata": {},
   "outputs": [
    {
     "data": {
      "text/plain": [
       "'YHN'"
      ]
     },
     "execution_count": 115,
     "metadata": {},
     "output_type": "execute_result"
    }
   ],
   "source": [
    "strvar[1::2] #1.indexten başlayıp 2şer atlayarak yazacak"
   ]
  },
  {
   "cell_type": "code",
   "execution_count": 119,
   "id": "cd176b43-cadd-409c-8ec0-75ec10d97ae8",
   "metadata": {},
   "outputs": [
    {
     "data": {
      "text/plain": [
       "'YH'"
      ]
     },
     "execution_count": 119,
     "metadata": {},
     "output_type": "execute_result"
    }
   ],
   "source": [
    "strvar [1:5:2] #1. indexten başlayıp 5. indexe kadar 2şer atlayarak yazacak"
   ]
  },
  {
   "cell_type": "code",
   "execution_count": 121,
   "id": "7594548b-5404-402e-8f06-5c686140a8f9",
   "metadata": {},
   "outputs": [
    {
     "data": {
      "text/plain": [
       "6"
      ]
     },
     "execution_count": 121,
     "metadata": {},
     "output_type": "execute_result"
    }
   ],
   "source": [
    "len(strvar) #len komutu kelimenin uzunluğunu bulmaya yarar NOT:Uzunluk 0'dan başlamaz"
   ]
  },
  {
   "cell_type": "code",
   "execution_count": 125,
   "id": "d8043e9e-9a22-478f-b960-397f6fdd7539",
   "metadata": {},
   "outputs": [
    {
     "data": {
      "text/plain": [
       "'PYTHON öğren'"
      ]
     },
     "execution_count": 125,
     "metadata": {},
     "output_type": "execute_result"
    }
   ],
   "source": [
    "strvar + \" öğren\""
   ]
  },
  {
   "cell_type": "code",
   "execution_count": 143,
   "id": "60e0ca19-381b-41f5-8661-011ab21a4ac0",
   "metadata": {},
   "outputs": [
    {
     "data": {
      "text/plain": [
       "'PYTHON öğren'"
      ]
     },
     "execution_count": 143,
     "metadata": {},
     "output_type": "execute_result"
    }
   ],
   "source": [
    "strvar= \"PYTHON\" #önceki hücrede yazdığım öğren eklemesi tekrar yazılmasın diye sıfırladım\n",
    "strvar+=\" öğren\"\n",
    "strvar"
   ]
  },
  {
   "cell_type": "code",
   "execution_count": 145,
   "id": "25eb6ae3-10b0-4eb3-af47-8c5f5b325b67",
   "metadata": {},
   "outputs": [
    {
     "data": {
      "text/plain": [
       "'PYTHON öğrenPYTHON öğrenPYTHON öğrenPYTHON öğrenPYTHON öğren'"
      ]
     },
     "execution_count": 145,
     "metadata": {},
     "output_type": "execute_result"
    }
   ],
   "source": [
    "strvar * 5"
   ]
  },
  {
   "cell_type": "code",
   "execution_count": 149,
   "id": "c91c17f2-8435-4f11-a1cd-b5e717505f4d",
   "metadata": {},
   "outputs": [
    {
     "data": {
      "text/plain": [
       "'PYTHON öğren'"
      ]
     },
     "execution_count": 149,
     "metadata": {},
     "output_type": "execute_result"
    }
   ],
   "source": [
    "strvar # az önce 5 le çarparken atama yapmadığımız için string değerimiz değişmez"
   ]
  },
  {
   "cell_type": "code",
   "execution_count": 151,
   "id": "8b4934f4-f09f-4eba-abca-cbfae56b0041",
   "metadata": {},
   "outputs": [
    {
     "data": {
      "text/plain": [
       "'PYTHON ÖĞREN'"
      ]
     },
     "execution_count": 151,
     "metadata": {},
     "output_type": "execute_result"
    }
   ],
   "source": [
    "strvar.upper()"
   ]
  },
  {
   "cell_type": "code",
   "execution_count": 153,
   "id": "ae939ee8-0113-4340-855e-9ee9b4942d4b",
   "metadata": {},
   "outputs": [
    {
     "data": {
      "text/plain": [
       "'python öğren'"
      ]
     },
     "execution_count": 153,
     "metadata": {},
     "output_type": "execute_result"
    }
   ],
   "source": [
    "strvar.lower()"
   ]
  },
  {
   "cell_type": "code",
   "execution_count": 155,
   "id": "c4e9516f-ea58-4db8-b324-9b3499b4d50c",
   "metadata": {},
   "outputs": [
    {
     "data": {
      "text/plain": [
       "['PYTHON', 'öğren']"
      ]
     },
     "execution_count": 155,
     "metadata": {},
     "output_type": "execute_result"
    }
   ],
   "source": [
    "strvar.split() #split komutu stringi ayırmaya yarar parantez içine hiçbir şey yazmadığımız için boşluk gördüğü yerde ayırır"
   ]
  },
  {
   "cell_type": "code",
   "execution_count": 159,
   "id": "d228036e-e6e1-4f04-86e8-0da49d0bb086",
   "metadata": {},
   "outputs": [
    {
     "data": {
      "text/plain": [
       "['PYTH', 'N öğren']"
      ]
     },
     "execution_count": 159,
     "metadata": {},
     "output_type": "execute_result"
    }
   ],
   "source": [
    "strvar.split(\"O\")"
   ]
  },
  {
   "cell_type": "code",
   "execution_count": 163,
   "id": "cabf1a14-0991-42fa-9141-3ebf021a7571",
   "metadata": {},
   "outputs": [
    {
     "data": {
      "text/plain": [
       "['PYTH', 'N öğren']"
      ]
     },
     "execution_count": 163,
     "metadata": {},
     "output_type": "execute_result"
    }
   ],
   "source": [
    "strvar.split(sep=\"O\",maxsplit=1) #burada O gördüğün yerlerde ayır ama maximum bir kere ayır diyoruz\n",
    "#normalde eğer iki yerde o olsaydı 3 parçaya ayırmış olacaktı biz maxsplit=1 diyerek 1 parçaya ayrılmasını sağladık"
   ]
  },
  {
   "cell_type": "code",
   "execution_count": 15,
   "id": "5f232f50-708b-4c04-82e3-9b2ec9956e07",
   "metadata": {},
   "outputs": [],
   "source": [
    "isim=\"Ahmet Emre Irmak\""
   ]
  },
  {
   "cell_type": "code",
   "execution_count": 19,
   "id": "0c60733d-1028-45f6-8a54-14dab1a10b34",
   "metadata": {},
   "outputs": [
    {
     "data": {
      "text/plain": [
       "['Ahmet', 'Emre Irmak']"
      ]
     },
     "execution_count": 19,
     "metadata": {},
     "output_type": "execute_result"
    }
   ],
   "source": [
    "isim.split(maxsplit=1)"
   ]
  },
  {
   "cell_type": "code",
   "execution_count": 169,
   "id": "90d3eda3-ba7e-429c-86fe-c4198460caf6",
   "metadata": {},
   "outputs": [
    {
     "name": "stdout",
     "output_type": "stream",
     "text": [
      "False\n",
      "True\n"
     ]
    }
   ],
   "source": [
    "yas= 20\n",
    "yas2=16\n",
    "print(yas<18)\n",
    "print(yas2<18)"
   ]
  },
  {
   "cell_type": "code",
   "execution_count": 171,
   "id": "6821d62b-bce9-4ce1-80f6-4c6caaafad2a",
   "metadata": {},
   "outputs": [
    {
     "data": {
      "text/plain": [
       "False"
      ]
     },
     "execution_count": 171,
     "metadata": {},
     "output_type": "execute_result"
    }
   ],
   "source": [
    "yas2 ==18"
   ]
  },
  {
   "cell_type": "code",
   "execution_count": 173,
   "id": "7011aa0e-6265-4590-92ce-833d4aacccf8",
   "metadata": {},
   "outputs": [
    {
     "data": {
      "text/plain": [
       "True"
      ]
     },
     "execution_count": 173,
     "metadata": {},
     "output_type": "execute_result"
    }
   ],
   "source": [
    "yas2==16"
   ]
  },
  {
   "cell_type": "code",
   "execution_count": 175,
   "id": "e5c8bdc4-71ab-4ca9-8a81-cfad4254fe67",
   "metadata": {},
   "outputs": [
    {
     "data": {
      "text/plain": [
       "False"
      ]
     },
     "execution_count": 175,
     "metadata": {},
     "output_type": "execute_result"
    }
   ],
   "source": [
    "yas2 !=16 #yaş2 16ya eşit değil mi diye sorduk eşit olduğu için cevap false"
   ]
  },
  {
   "cell_type": "code",
   "execution_count": 179,
   "id": "98a499dc-5ed6-4464-8c67-d58c6b4bd019",
   "metadata": {},
   "outputs": [
    {
     "data": {
      "text/plain": [
       "False"
      ]
     },
     "execution_count": 179,
     "metadata": {},
     "output_type": "execute_result"
    }
   ],
   "source": [
    "not yas2 <18 #yas2 18den küçük değil mi diye sorduk "
   ]
  },
  {
   "cell_type": "code",
   "execution_count": 181,
   "id": "ccc32846-8354-4a2e-94d5-623e6e628b94",
   "metadata": {},
   "outputs": [
    {
     "data": {
      "text/plain": [
       "True"
      ]
     },
     "execution_count": 181,
     "metadata": {},
     "output_type": "execute_result"
    }
   ],
   "source": [
    "not yas2==18 #eşitlik durumunu sorgulamak için hep çift eşittir kullanmamız gerekiyor"
   ]
  },
  {
   "cell_type": "raw",
   "id": "83a8f7f2-4fa4-4fe0-825a-d7a7837e3788",
   "metadata": {},
   "source": [
    "list & set\n",
    "A  B  C  D  E  F  G \n",
    "0  1  2  3  4  5  6\n",
    "0 -6 -5 -4 -3 -2 -1"
   ]
  },
  {
   "cell_type": "code",
   "execution_count": 271,
   "id": "48377b5b-3bf9-4463-9a71-e59cb23c37c8",
   "metadata": {},
   "outputs": [
    {
     "name": "stdout",
     "output_type": "stream",
     "text": [
      "['a', 'b', 'c', 'd', 'e', 'a']\n"
     ]
    }
   ],
   "source": [
    "liste= ['a','b','c','d','e','a']\n",
    "print(liste)"
   ]
  },
  {
   "cell_type": "code",
   "execution_count": 273,
   "id": "18f0ec34-3a26-465b-a15f-8ef15b8064a6",
   "metadata": {},
   "outputs": [
    {
     "data": {
      "text/plain": [
       "['a', 'b', 'c', 'd', 'e', 'a', 'f']"
      ]
     },
     "execution_count": 273,
     "metadata": {},
     "output_type": "execute_result"
    }
   ],
   "source": [
    "liste = liste + ['f']\n",
    "liste"
   ]
  },
  {
   "cell_type": "code",
   "execution_count": 275,
   "id": "35772b49-e63b-4ff9-b88e-527f179b14bd",
   "metadata": {},
   "outputs": [
    {
     "data": {
      "text/plain": [
       "['a', 'b', 'c', 'd', 'e', 'a', 'f', 3]"
      ]
     },
     "execution_count": 275,
     "metadata": {},
     "output_type": "execute_result"
    }
   ],
   "source": [
    "liste +=[3]   #listemize integer değer de atayabiliriz\n",
    "liste"
   ]
  },
  {
   "cell_type": "code",
   "execution_count": 277,
   "id": "7b6d1695-07f3-495c-ab05-d658e3d33c31",
   "metadata": {},
   "outputs": [
    {
     "data": {
      "text/plain": [
       "['a', 'b', 'c', 'd', 'e', 'a', 'f', 3, 'g']"
      ]
     },
     "execution_count": 277,
     "metadata": {},
     "output_type": "execute_result"
    }
   ],
   "source": [
    "liste.append('g')\n",
    "liste"
   ]
  },
  {
   "cell_type": "code",
   "execution_count": 283,
   "id": "577a20a4-ed13-4b5a-9630-96d1bc89cd84",
   "metadata": {},
   "outputs": [
    {
     "data": {
      "text/plain": [
       "['a', 'b', 'c', 'd', 'e', 'a', 'f', 3]"
      ]
     },
     "execution_count": 283,
     "metadata": {},
     "output_type": "execute_result"
    }
   ],
   "source": [
    "liste.pop()\n",
    "liste"
   ]
  },
  {
   "cell_type": "code",
   "execution_count": 285,
   "id": "43a62f58-6fff-4ef5-b0af-806285c55a31",
   "metadata": {},
   "outputs": [
    {
     "data": {
      "text/plain": [
       "3"
      ]
     },
     "execution_count": 285,
     "metadata": {},
     "output_type": "execute_result"
    }
   ],
   "source": [
    "cikarilandeger=liste.pop()\n",
    "cikarilandeger"
   ]
  },
  {
   "cell_type": "code",
   "execution_count": 287,
   "id": "7d58f460-d660-4c3d-bb46-119e57eb2171",
   "metadata": {},
   "outputs": [
    {
     "data": {
      "text/plain": [
       "['a', 'b', 'c', 'd', 'e', 'a', 'f']"
      ]
     },
     "execution_count": 287,
     "metadata": {},
     "output_type": "execute_result"
    }
   ],
   "source": [
    "liste"
   ]
  },
  {
   "cell_type": "code",
   "execution_count": 289,
   "id": "88a13793-e8d4-461f-9213-c92ffcc75a8a",
   "metadata": {},
   "outputs": [
    {
     "data": {
      "text/plain": [
       "['a', 'b', 'c', 'e', 'a', 'f']"
      ]
     },
     "execution_count": 289,
     "metadata": {},
     "output_type": "execute_result"
    }
   ],
   "source": [
    "liste.pop(3) #listenin 3.indexi olan d yi çıkarır\n",
    "liste"
   ]
  },
  {
   "cell_type": "code",
   "execution_count": 317,
   "id": "fc22ffe7-b0b9-4bc5-a9f1-29331603585a",
   "metadata": {},
   "outputs": [
    {
     "data": {
      "text/plain": [
       "[2, 12, 12, 12, 35, 21354, 23545, 8987987]"
      ]
     },
     "execution_count": 317,
     "metadata": {},
     "output_type": "execute_result"
    }
   ],
   "source": [
    "sayilar=[12,23545,21354,12,12,35,8987987,2]\n",
    "sayilar.sort()\n",
    "sayilar"
   ]
  },
  {
   "cell_type": "code",
   "execution_count": 319,
   "id": "3cf9bdde-e915-472d-af92-93af79e766b6",
   "metadata": {},
   "outputs": [
    {
     "data": {
      "text/plain": [
       "[8987987, 23545, 21354, 35, 12, 12, 12, 2]"
      ]
     },
     "execution_count": 319,
     "metadata": {},
     "output_type": "execute_result"
    }
   ],
   "source": [
    "sayilar.reverse() #burada dizinin son halini ters çevirir tersten sıralamaz olduğu gibi ters çevirir\n",
    "sayilar"
   ]
  },
  {
   "cell_type": "code",
   "execution_count": 325,
   "id": "b67a6ea3-2fc3-4ae6-9e41-5ef47139de02",
   "metadata": {},
   "outputs": [
    {
     "data": {
      "text/plain": [
       "{2, 12, 35, 21354, 23545, 8987987}"
      ]
     },
     "execution_count": 325,
     "metadata": {},
     "output_type": "execute_result"
    }
   ],
   "source": [
    "set(sayilar) #set komutu tekrar eden elemanları çıkarır ve süslü diziyi parantez içine yazar"
   ]
  },
  {
   "cell_type": "raw",
   "id": "a3664982-a6a7-4968-bd87-6820e9bcad11",
   "metadata": {},
   "source": [
    "tuple değiştirilemeyen listelerdir hiçbir değeri değiştirilemez normal parantez kullanılır"
   ]
  },
  {
   "cell_type": "code",
   "execution_count": 23,
   "id": "a507c5d2-19bf-41c6-8e1c-a4fa94e40921",
   "metadata": {},
   "outputs": [
    {
     "data": {
      "text/plain": [
       "(1, 2, 5, 1, 3, 6, 4, 8, 8, 8, 3, 1, 1, 1)"
      ]
     },
     "execution_count": 23,
     "metadata": {},
     "output_type": "execute_result"
    }
   ],
   "source": [
    "tup=(1,2,5,1,3,6,4,8,8,8,3,1,1,1)\n",
    "tup\n"
   ]
  },
  {
   "cell_type": "code",
   "execution_count": 329,
   "id": "bf1e78a2-9464-4b72-931a-b046cf4fe322",
   "metadata": {},
   "outputs": [
    {
     "data": {
      "text/plain": [
       "5"
      ]
     },
     "execution_count": 329,
     "metadata": {},
     "output_type": "execute_result"
    }
   ],
   "source": [
    "tup.count(1) #count komutu ile tup dizisi içinde kaç tane 1 olduğunu sorguladık"
   ]
  },
  {
   "cell_type": "code",
   "execution_count": 341,
   "id": "10b59d67-6a2c-4e22-9e58-15ac86b830a6",
   "metadata": {},
   "outputs": [
    {
     "data": {
      "text/plain": [
       "3"
      ]
     },
     "execution_count": 341,
     "metadata": {},
     "output_type": "execute_result"
    }
   ],
   "source": [
    "tup.count(8)"
   ]
  },
  {
   "cell_type": "code",
   "execution_count": 343,
   "id": "b279e363-2b64-4455-9e1f-eb9db8ed62f3",
   "metadata": {},
   "outputs": [
    {
     "data": {
      "text/plain": [
       "0"
      ]
     },
     "execution_count": 343,
     "metadata": {},
     "output_type": "execute_result"
    }
   ],
   "source": [
    "tup.count(False)"
   ]
  },
  {
   "cell_type": "code",
   "execution_count": 345,
   "id": "1926e951-129a-45db-b6ea-3882374edc8b",
   "metadata": {},
   "outputs": [
    {
     "data": {
      "text/plain": [
       "7"
      ]
     },
     "execution_count": 345,
     "metadata": {},
     "output_type": "execute_result"
    }
   ],
   "source": [
    "tup.index(8) #.index komutu ile tup dizisindeki karşılaşılan ilk 8'in indexini sorguladık\n",
    "#index komutu ile dizi içinde bulunmayan bir elemanın konumunu sorgularsak hata verir!"
   ]
  },
  {
   "cell_type": "raw",
   "id": "8906f917-f251-4f56-b2e7-77e130cb3025",
   "metadata": {},
   "source": [
    "Dictionary Listenin çok boyutlu halidir(matris) süslü parantez içinde yazılır"
   ]
  },
  {
   "cell_type": "code",
   "execution_count": 351,
   "id": "11ad4fd4-eede-4e5c-bde5-adb302f50b3d",
   "metadata": {},
   "outputs": [
    {
     "data": {
      "text/plain": [
       "{'isim': 'Mesut', 'yas': 32, 'lokasyon': 'Berlin'}"
      ]
     },
     "execution_count": 351,
     "metadata": {},
     "output_type": "execute_result"
    }
   ],
   "source": [
    "dict1={'isim':'Mesut','yas':32,'lokasyon':'Berlin'}\n",
    "dict1"
   ]
  },
  {
   "cell_type": "code",
   "execution_count": 357,
   "id": "b25b987d-e2ba-45b8-bae1-cedcdbbb251f",
   "metadata": {},
   "outputs": [
    {
     "data": {
      "text/plain": [
       "{'isim': 'Mesut', 'yas': 32, 'lokasyon': 'Berlin'}"
      ]
     },
     "execution_count": 357,
     "metadata": {},
     "output_type": "execute_result"
    }
   ],
   "source": [
    "dict2={\n",
    "    'isim':'Mesut',\n",
    "    'yas':32,\n",
    "    'lokasyon':'Berlin'\n",
    "}\n",
    "dict2"
   ]
  },
  {
   "cell_type": "code",
   "execution_count": 359,
   "id": "e9c347bc-1087-4393-8145-a9cc2cbe58f7",
   "metadata": {
    "scrolled": true
   },
   "outputs": [
    {
     "data": {
      "text/plain": [
       "{'isim': 'Mesut',\n",
       " 'yas': 32,\n",
       " 'lokasyon': {'yasadıgı_sehir': 'Berlin', 'dogdugu_sehir': 'İstanbul'}}"
      ]
     },
     "execution_count": 359,
     "metadata": {},
     "output_type": "execute_result"
    }
   ],
   "source": [
    "dict3={\n",
    "    \"isim\":\"Mesut\",\n",
    "    \"yas\":32,\n",
    "    \"lokasyon\":{\n",
    "        \"yasadıgı_sehir\":\"Berlin\",\n",
    "        \"dogdugu_sehir\":\"İstanbul\"\n",
    "    }\n",
    "}\n",
    "dict3"
   ]
  },
  {
   "cell_type": "code",
   "execution_count": 363,
   "id": "293a52ad-1c88-4eae-a63d-eccbd137593d",
   "metadata": {},
   "outputs": [
    {
     "data": {
      "text/plain": [
       "32"
      ]
     },
     "execution_count": 363,
     "metadata": {},
     "output_type": "execute_result"
    }
   ],
   "source": [
    "dict2[\"yas\"]"
   ]
  },
  {
   "cell_type": "code",
   "execution_count": 365,
   "id": "0f963216-caf8-4868-8c35-9878c1dd6df3",
   "metadata": {},
   "outputs": [
    {
     "data": {
      "text/plain": [
       "'İstanbul'"
      ]
     },
     "execution_count": 365,
     "metadata": {},
     "output_type": "execute_result"
    }
   ],
   "source": [
    "dict3['lokasyon']['dogdugu_sehir']"
   ]
  },
  {
   "cell_type": "code",
   "execution_count": 367,
   "id": "f74efde9-0e79-45d9-88f1-07f933365f54",
   "metadata": {},
   "outputs": [
    {
     "data": {
      "text/plain": [
       "32"
      ]
     },
     "execution_count": 367,
     "metadata": {},
     "output_type": "execute_result"
    }
   ],
   "source": [
    "dict2.get(\"yas\") #dict2[\"yas\"] komutu ile aynı işe yarar"
   ]
  },
  {
   "cell_type": "code",
   "execution_count": 369,
   "id": "914ffec1-eae2-438d-8a2f-bbfb4867e572",
   "metadata": {},
   "outputs": [
    {
     "data": {
      "text/plain": [
       "'Berlin'"
      ]
     },
     "execution_count": 369,
     "metadata": {},
     "output_type": "execute_result"
    }
   ],
   "source": [
    "dict3.get(\"lokasyon\").get(\"yasadıgı_sehir\")"
   ]
  },
  {
   "cell_type": "code",
   "execution_count": 371,
   "id": "82baca70-1362-4187-bfe4-3ca132eeeb90",
   "metadata": {},
   "outputs": [
    {
     "data": {
      "text/plain": [
       "dict_keys(['isim', 'yas', 'lokasyon'])"
      ]
     },
     "execution_count": 371,
     "metadata": {},
     "output_type": "execute_result"
    }
   ],
   "source": [
    "dict2.keys() #dict2 deki anahtar değişkenleri verir"
   ]
  },
  {
   "cell_type": "code",
   "execution_count": 373,
   "id": "8cfb5b7f-7247-48c6-9c62-a71889cfcba8",
   "metadata": {},
   "outputs": [
    {
     "data": {
      "text/plain": [
       "dict_values(['Mesut', 32, 'Berlin'])"
      ]
     },
     "execution_count": 373,
     "metadata": {},
     "output_type": "execute_result"
    }
   ],
   "source": [
    "dict2.values() #dict2 deki anahtarlara karşılık gelen değerleri verir"
   ]
  },
  {
   "cell_type": "code",
   "execution_count": 375,
   "id": "260e869e-626e-4870-aebd-c6f295c132ac",
   "metadata": {},
   "outputs": [
    {
     "data": {
      "text/plain": [
       "dict_items([('isim', 'Mesut'), ('yas', 32), ('lokasyon', 'Berlin')])"
      ]
     },
     "execution_count": 375,
     "metadata": {},
     "output_type": "execute_result"
    }
   ],
   "source": [
    "dict2.items() #anahtarları ve karşılık gelen değerleri verir"
   ]
  },
  {
   "cell_type": "code",
   "execution_count": 377,
   "id": "bf3088b8-182a-4812-ae09-279549aa5ded",
   "metadata": {},
   "outputs": [
    {
     "data": {
      "text/plain": [
       "dict_keys(['isim', 'yas', 'lokasyon'])"
      ]
     },
     "execution_count": 377,
     "metadata": {},
     "output_type": "execute_result"
    }
   ],
   "source": [
    "dict1.keys() #yan yana yazılan dictionaryde de bişi değişmez!"
   ]
  },
  {
   "cell_type": "code",
   "execution_count": 379,
   "id": "29d797c0-8552-4fea-8697-8036f4de1dde",
   "metadata": {},
   "outputs": [
    {
     "data": {
      "text/plain": [
       "dict_keys(['isim', 'yas', 'lokasyon'])"
      ]
     },
     "execution_count": 379,
     "metadata": {},
     "output_type": "execute_result"
    }
   ],
   "source": [
    "dict3.keys()"
   ]
  },
  {
   "cell_type": "code",
   "execution_count": 381,
   "id": "9e440831-bb11-456c-ac56-d93d91b385e6",
   "metadata": {},
   "outputs": [
    {
     "data": {
      "text/plain": [
       "dict_values(['Mesut', 32, {'yasadıgı_sehir': 'Berlin', 'dogdugu_sehir': 'İstanbul'}])"
      ]
     },
     "execution_count": 381,
     "metadata": {},
     "output_type": "execute_result"
    }
   ],
   "source": [
    "dict3.values()"
   ]
  },
  {
   "cell_type": "code",
   "execution_count": 383,
   "id": "7e531a05-7c5e-4186-b3e5-9c1de6e29130",
   "metadata": {},
   "outputs": [
    {
     "data": {
      "text/plain": [
       "dict_items([('isim', 'Mesut'), ('yas', 32), ('lokasyon', {'yasadıgı_sehir': 'Berlin', 'dogdugu_sehir': 'İstanbul'})])"
      ]
     },
     "execution_count": 383,
     "metadata": {},
     "output_type": "execute_result"
    }
   ],
   "source": [
    "dict3.items()"
   ]
  },
  {
   "cell_type": "raw",
   "id": "be48b1a4-5d29-4908-b66f-d3607437c7b1",
   "metadata": {},
   "source": [
    "if komutu"
   ]
  },
  {
   "cell_type": "code",
   "execution_count": 391,
   "id": "73182478-a131-4e32-ad88-c2742c3ca584",
   "metadata": {},
   "outputs": [
    {
     "name": "stdout",
     "output_type": "stream",
     "text": [
      "şemsiyeni al\n"
     ]
    }
   ],
   "source": [
    "hava_durumu=\"yağışlı\"\n",
    "if hava_durumu==\"yağışlı\":\n",
    "    print(\"şemsiyeni al\")"
   ]
  },
  {
   "cell_type": "code",
   "execution_count": 27,
   "id": "1203f7f2-51c3-4e23-a6be-50e68903df2f",
   "metadata": {},
   "outputs": [
    {
     "name": "stdout",
     "output_type": "stream",
     "text": [
      "şemsiyeni almana gerek yok\n"
     ]
    }
   ],
   "source": [
    "hava_durumu=\"karlı\"\n",
    "if hava_durumu==\"yagışlı\":\n",
    "    print(\"şemsiyeni al\")\n",
    "else:\n",
    "    print(\"şemsiyeni almana gerek yok\")"
   ]
  },
  {
   "cell_type": "code",
   "execution_count": 395,
   "id": "8a87d9a6-fead-4ce1-ac3a-dd379a12626d",
   "metadata": {},
   "outputs": [
    {
     "name": "stdout",
     "output_type": "stream",
     "text": [
      "Bugün hava soğuk\n"
     ]
    }
   ],
   "source": [
    "hava_durumu=\"karlı\"\n",
    "if hava_durumu==\"yağışlı\":\n",
    "    print(\"şemsiyeni al\")\n",
    "elif hava_durumu==\"karlı\" :\n",
    "    print(\"Bugün hava soğuk\")\n",
    "else:                                        #burada else o da değilse anlamındadır.\n",
    "    print(\"şemsiyeni almana gerek yok\")"
   ]
  },
  {
   "cell_type": "code",
   "execution_count": 399,
   "id": "2521da99-3048-4bcc-8ff7-8e217613dc03",
   "metadata": {},
   "outputs": [
    {
     "name": "stdout",
     "output_type": "stream",
     "text": [
      "yaş yeterlidir\n"
     ]
    }
   ],
   "source": [
    "yaş= 12\n",
    "if yaş<12:\n",
    "    print (\"yaş, sınırın altındadır\")\n",
    "else:\n",
    "    print(\"yaş yeterlidir\")"
   ]
  },
  {
   "cell_type": "code",
   "execution_count": 15,
   "id": "be3a62f8-43b5-4206-a7da-8ef6071cd432",
   "metadata": {},
   "outputs": [
    {
     "name": "stdout",
     "output_type": "stream",
     "text": [
      "buldum\n"
     ]
    }
   ],
   "source": [
    "liste=[\"a\",\"b\",\"c\"]\n",
    "\n",
    "hedef_harf=\"d\"\n",
    "if hedef_harf in liste:\n",
    "    print(\"buldum\")\n",
    "else:\n",
    "    print(\"mevcut değil\")"
   ]
  },
  {
   "cell_type": "code",
   "execution_count": 17,
   "id": "eca49f5e-c11a-4470-b37b-85059cc8a0ca",
   "metadata": {},
   "outputs": [
    {
     "name": "stdout",
     "output_type": "stream",
     "text": [
      "buldum\n"
     ]
    }
   ],
   "source": [
    "liste=[\"a\",\"b\",\"c\"]\n",
    "\n",
    "hedef_harf=\"d\"\n",
    "if \"a\" in liste:\n",
    "    print(\"buldum\")\n",
    "else:\n",
    "    print(\"mevcut değil\")"
   ]
  },
  {
   "cell_type": "code",
   "execution_count": 429,
   "id": "21924fa0-3a23-4d01-aa2d-d24c89198fc9",
   "metadata": {},
   "outputs": [
    {
     "name": "stdout",
     "output_type": "stream",
     "text": [
      "mevcut değil\n",
      "listeye ekledim\n",
      "Güncel Liste : ['a', 'b', 'c', 'd']\n"
     ]
    }
   ],
   "source": [
    "liste=[\"a\",\"b\",\"c\"]\n",
    "\n",
    "hedef_harf=\"d\"\n",
    "if hedef_harf in liste:\n",
    "    print(\"buldum\")\n",
    "    \n",
    "else:\n",
    "    print(\"mevcut değil\")\n",
    "    liste.append(hedef_harf)\n",
    "    print(\"listeye ekledim\")\n",
    "    print(\"Güncel Liste : {}\".format(liste))\n",
    "    "
   ]
  },
  {
   "cell_type": "code",
   "execution_count": 435,
   "id": "d746f0f1-e010-4488-8e24-a4aa060b394a",
   "metadata": {},
   "outputs": [
    {
     "name": "stdout",
     "output_type": "stream",
     "text": [
      "buldum ama ilk elemanı d değil\n"
     ]
    }
   ],
   "source": [
    "liste=[\"a\",\"b\",\"d\"]\n",
    "\n",
    "hedef_harf=\"d\"\n",
    "if hedef_harf in liste and hedef_harf == liste[0]:\n",
    "    print(\"buldum aynı zamanda ilk elemanı\",hedef_harf)\n",
    "elif hedef_harf in liste:\n",
    "    print(\"buldum ama ilk elemanı\",hedef_harf,\"değil\")\n",
    "    \n",
    "else:\n",
    "    print(\"mevcut değil\")\n",
    "    liste.append(hedef_harf)\n",
    "    print(\"listeye ekledim\")\n",
    "    print(\"Güncel Liste : {}\".format(liste))"
   ]
  },
  {
   "cell_type": "raw",
   "id": "4369383a-76b2-4eed-843b-7690205bb1e6",
   "metadata": {},
   "source": [
    "NOT: Pythonda if elif else yapılarında ilk olarak birisi gerçekleştirdiğinde diğerlerini uygulamaz\n",
    "Mesela : if seçeneği sağlanırsa elif veya else komutları çalışmaz"
   ]
  },
  {
   "cell_type": "code",
   "execution_count": 439,
   "id": "fff2be70-b4fd-49e6-8b56-3a64286d7c6c",
   "metadata": {},
   "outputs": [
    {
     "name": "stdout",
     "output_type": "stream",
     "text": [
      "zebra\n",
      "kaplan\n",
      "su aygırı\n",
      "kanarya\n",
      "timsah\n"
     ]
    }
   ],
   "source": [
    "hayvanlar=[\"zebra\",\"kaplan\",\"su aygırı\",\"kanarya\",\"timsah\"]\n",
    "for x in hayvanlar:\n",
    "    print(x)"
   ]
  },
  {
   "cell_type": "code",
   "execution_count": 445,
   "id": "e24697aa-2c72-407a-8590-c7ff23389d55",
   "metadata": {},
   "outputs": [
    {
     "name": "stdout",
     "output_type": "stream",
     "text": [
      "1 zebra\n",
      "2 kaplan\n",
      "3 su aygırı\n",
      "4 kanarya\n",
      "5 timsah\n"
     ]
    }
   ],
   "source": [
    "hayvan_sayısı=0\n",
    "for x in hayvanlar:\n",
    "    hayvan_sayısı= hayvan_sayısı+1\n",
    "    print (hayvan_sayısı,x)"
   ]
  },
  {
   "cell_type": "code",
   "execution_count": 449,
   "id": "9e680b34-8ec7-409a-9289-3f3f54bf595f",
   "metadata": {},
   "outputs": [
    {
     "name": "stdout",
     "output_type": "stream",
     "text": [
      "1 Ece AYDIN\n",
      "2 Emre IRMAK\n",
      "3 Timur ÇETİN\n",
      "4 Kaan ÜNSİL\n",
      "5 Yıldız ATALAY\n"
     ]
    }
   ],
   "source": [
    "yorum_bırakanlar=[\"Ece AYDIN\",\"Emre IRMAK\",\"Timur ÇETİN\",\"Kaan ÜNSİL\",\"Yıldız ATALAY\"]\n",
    "kullanıcı_sayısı=0\n",
    "for kullanıcı in yorum_bırakanlar:\n",
    "    kullanıcı_sayısı+=1\n",
    "    print(kullanıcı_sayısı,kullanıcı)"
   ]
  },
  {
   "cell_type": "code",
   "execution_count": 451,
   "id": "659bc641-8cc3-4de2-a5a3-1b5f3813620f",
   "metadata": {},
   "outputs": [
    {
     "data": {
      "text/plain": [
       "['Ece', 'AYDIN']"
      ]
     },
     "execution_count": 451,
     "metadata": {},
     "output_type": "execute_result"
    }
   ],
   "source": [
    "yorum_bırakanlar[0].split()"
   ]
  },
  {
   "cell_type": "code",
   "execution_count": 455,
   "id": "976556fc-28f5-45d8-b8b0-f53540edef54",
   "metadata": {},
   "outputs": [
    {
     "name": "stdout",
     "output_type": "stream",
     "text": [
      "Ece\n",
      "AYDIN\n"
     ]
    }
   ],
   "source": [
    "ad=yorum_bırakanlar[0].split()[0]    #bunları hatırlatma olsun diye yazdım\n",
    "soyad=yorum_bırakanlar[0].split()[1]\n",
    "print(ad)\n",
    "print(soyad)"
   ]
  },
  {
   "cell_type": "code",
   "execution_count": 463,
   "id": "0ef57bad-19c2-4925-88fb-48089aafe094",
   "metadata": {},
   "outputs": [
    {
     "name": "stdout",
     "output_type": "stream",
     "text": [
      "1. kullanıcının Adı:Ece |Soyadı:AYDIN\n",
      "2. kullanıcının Adı:Emre |Soyadı:IRMAK\n",
      "3. kullanıcının Adı:Timur |Soyadı:ÇETİN\n",
      "4. kullanıcının Adı:Kaan |Soyadı:ÜNSİL\n",
      "5. kullanıcının Adı:Yıldız |Soyadı:ATALAY\n"
     ]
    }
   ],
   "source": [
    "kullanıcı_sayısı=0\n",
    "for kullanıcı in yorum_bırakanlar:\n",
    "    kullanıcı_sayısı+=1\n",
    "    ad,soyad=kullanıcı.split()[0],kullanıcı.split()[1]\n",
    "    print(\"{}. kullanıcının Adı:{} |Soyadı:{}\".format(kullanıcı_sayısı,ad,soyad))"
   ]
  },
  {
   "cell_type": "code",
   "execution_count": 486,
   "id": "3e243c70-5050-4e7d-b8fe-2eb7b008067a",
   "metadata": {},
   "outputs": [
    {
     "name": "stdout",
     "output_type": "stream",
     "text": [
      "1. Kullanıcının Adı: Ece | Soyadı: AYDIN\n",
      "2. Kullanıcının Adı: Emre | Soyadı: IRMAK\n",
      "3. Kullanıcının Adı: Timur | Soyadı: ÇETİN\n",
      "4. Kullanıcının Adı: Kaan | Soyadı: ÜNSİL\n",
      "1. Moderatörün Adı: Yıldız | Soyadı: ATALAY\n"
     ]
    }
   ],
   "source": [
    "moderatör = \"Yıldız ATALAY\"\n",
    "kullanıcı_sayısı = 0\n",
    "moderatör_sayısı = 0\n",
    "\n",
    "\n",
    "for kullanıcı in yorum_bırakanlar:\n",
    "    ad, soyad = kullanıcı.split()[0], kullanıcı.split()[1]\n",
    "    if kullanıcı == moderatör:\n",
    "        moderatör_sayısı += 1\n",
    "        print(\"{0}. Moderatörün Adı: {1} | Soyadı: {2}\".format(moderatör_sayısı, ad, soyad))\n",
    "    else:\n",
    "        kullanıcı_sayısı += 1\n",
    "        print(\"{0}. Kullanıcının Adı: {1} | Soyadı: {2}\".format(kullanıcı_sayısı, ad, soyad))\n"
   ]
  },
  {
   "cell_type": "code",
   "execution_count": 490,
   "id": "577f2777-d945-4299-880a-f663d972a528",
   "metadata": {},
   "outputs": [
    {
     "name": "stdout",
     "output_type": "stream",
     "text": [
      "1\n",
      "33\n",
      "5\n",
      "7\n",
      "9\n"
     ]
    }
   ],
   "source": [
    "tup1=(1,33,5,7,9)\n",
    "for sayi in tup1:\n",
    "    print(sayi)"
   ]
  },
  {
   "cell_type": "code",
   "execution_count": 496,
   "id": "a40e7073-40a6-45f9-ad77-106c1d04939f",
   "metadata": {},
   "outputs": [
    {
     "name": "stdout",
     "output_type": "stream",
     "text": [
      "1\n",
      "3\n",
      "a\n"
     ]
    }
   ],
   "source": [
    "liste=[[1,2],[3,4],['a','b']]\n",
    "for x,y in liste:\n",
    "    print(x)"
   ]
  },
  {
   "cell_type": "code",
   "execution_count": 506,
   "id": "b708a94e-1eb0-4037-9e24-b88efa8aba39",
   "metadata": {},
   "outputs": [
    {
     "data": {
      "text/plain": [
       "dict_items([('ad:', 'Ece'), ('soyad:', 'AYDIN')])"
      ]
     },
     "execution_count": 506,
     "metadata": {},
     "output_type": "execute_result"
    }
   ],
   "source": [
    "kullanıcı1={\n",
    "    \"ad:\":\"Ece\",\n",
    "    \"soyad:\":\"AYDIN\"    \n",
    "}\n",
    "kullanıcı1.items()"
   ]
  },
  {
   "cell_type": "code",
   "execution_count": 510,
   "id": "0064134a-3987-4ba5-a1ba-02d8a0c762c1",
   "metadata": {},
   "outputs": [
    {
     "name": "stdout",
     "output_type": "stream",
     "text": [
      "Key: ad: \t Value : Ece\n",
      "Key: soyad: \t Value : AYDIN\n"
     ]
    }
   ],
   "source": [
    "for k,v in kullanıcı1.items():\n",
    "    print(\"Key: {} \\t Value : {}\".format(k,v))"
   ]
  },
  {
   "cell_type": "code",
   "execution_count": 514,
   "id": "37f722ac-996e-46c6-902b-b90b35a8e43c",
   "metadata": {},
   "outputs": [
    {
     "name": "stdout",
     "output_type": "stream",
     "text": [
      "Ece\n",
      "AYDIN\n"
     ]
    }
   ],
   "source": [
    "for v in kullanıcı1.values():\n",
    "    print(v)"
   ]
  },
  {
   "cell_type": "raw",
   "id": "6d4c407f-e4e4-4b62-977c-c27b07e8463c",
   "metadata": {},
   "source": [
    "WHİLE DÖNGÜSÜ"
   ]
  },
  {
   "cell_type": "code",
   "execution_count": 9,
   "id": "4701f2b0-d37b-4947-9792-f032e47082f4",
   "metadata": {},
   "outputs": [
    {
     "name": "stdout",
     "output_type": "stream",
     "text": [
      "0 değeri 10'dan küçüktür\n",
      "1 değeri 10'dan küçüktür\n",
      "2 değeri 10'dan küçüktür\n",
      "3 değeri 10'dan küçüktür\n",
      "4 değeri 10'dan küçüktür\n",
      "5 değeri 10'dan küçüktür\n",
      "6 değeri 10'dan küçüktür\n",
      "7 değeri 10'dan küçüktür\n",
      "8 değeri 10'dan küçüktür\n",
      "9 değeri 10'dan küçüktür\n",
      "10 değeri 10'dan küçük değildir\n"
     ]
    }
   ],
   "source": [
    "x=0\n",
    "while x<10:\n",
    "    print(\"{} değeri 10'dan küçüktür\".format(x))\n",
    "    x+=1\n",
    "else:\n",
    "    print(\"{} değeri 10'dan küçük değildir\".format(x))"
   ]
  },
  {
   "cell_type": "code",
   "execution_count": 3,
   "id": "530b78db-6fc2-4a81-9ca9-edfe6336009b",
   "metadata": {},
   "outputs": [
    {
     "name": "stdout",
     "output_type": "stream",
     "text": [
      "720\n"
     ]
    }
   ],
   "source": [
    "sayi=6\n",
    "sonuc=1\n",
    "while sayi >0 :\n",
    "    sonuc=sonuc*sayi\n",
    "    sayi -=1\n",
    "    \n",
    "print(sonuc)"
   ]
  },
  {
   "cell_type": "raw",
   "id": "3ee7fcf4-0193-49d3-a83e-07dce9d3fd79",
   "metadata": {},
   "source": [
    "RANGE"
   ]
  },
  {
   "cell_type": "code",
   "execution_count": 7,
   "id": "80e61a0a-1447-4062-a79a-ceb5de9c20b2",
   "metadata": {},
   "outputs": [
    {
     "data": {
      "text/plain": [
       "range(0, 10)"
      ]
     },
     "execution_count": 7,
     "metadata": {},
     "output_type": "execute_result"
    }
   ],
   "source": [
    "range(10) #0'dan 10'a kadar olan sayılar anlamına gelir"
   ]
  },
  {
   "cell_type": "code",
   "execution_count": 11,
   "id": "1007184e-a199-4cf2-87ca-e99f472dc067",
   "metadata": {},
   "outputs": [
    {
     "data": {
      "text/plain": [
       "[0, 1, 2, 3, 4, 5, 6, 7, 8, 9]"
      ]
     },
     "execution_count": 11,
     "metadata": {},
     "output_type": "execute_result"
    }
   ],
   "source": [
    "list(range(10)) #0'dan 10'a kadar olan sayıları listeledik"
   ]
  },
  {
   "cell_type": "code",
   "execution_count": 13,
   "id": "13491534-d615-47e9-ac7d-20cdd43cd3d1",
   "metadata": {},
   "outputs": [
    {
     "data": {
      "text/plain": [
       "[0, 1, 2, 3, 4, 5, 6, 7, 8, 9]"
      ]
     },
     "execution_count": 13,
     "metadata": {},
     "output_type": "execute_result"
    }
   ],
   "source": [
    "[*range(10)] #Bu da aynı işe yarar"
   ]
  },
  {
   "cell_type": "code",
   "execution_count": 15,
   "id": "c2cd5986-916f-4289-aec8-bef0b9030d83",
   "metadata": {},
   "outputs": [
    {
     "data": {
      "text/plain": [
       "range(12, 82)"
      ]
     },
     "execution_count": 15,
     "metadata": {},
     "output_type": "execute_result"
    }
   ],
   "source": [
    "range(12,82) #12'den  82'ye kadar olan sayılar   Not: bu tarz yazılarda bitiş kısmı dahil değildir"
   ]
  },
  {
   "cell_type": "code",
   "execution_count": 21,
   "id": "e17d466c-cdff-43dc-9474-b944d6e8a679",
   "metadata": {},
   "outputs": [
    {
     "data": {
      "text/plain": [
       "[12, 17, 22, 27, 32, 37, 42, 47, 52, 57, 62, 67, 72, 77]"
      ]
     },
     "execution_count": 21,
     "metadata": {},
     "output_type": "execute_result"
    }
   ],
   "source": [
    "list(range(12,82,5)) #12'den 82'ye kadar olan sayıları 5'er 5'er atlayarak yazar"
   ]
  },
  {
   "cell_type": "raw",
   "id": "a13bc6a2-30b7-4284-9a86-4aba1bee82fd",
   "metadata": {},
   "source": [
    "range'leri döngülerle beraber kullanabiliriz"
   ]
  },
  {
   "cell_type": "code",
   "execution_count": 23,
   "id": "f1bc668f-e21b-4716-8adc-231c4333f176",
   "metadata": {},
   "outputs": [
    {
     "name": "stdout",
     "output_type": "stream",
     "text": [
      "12\n",
      "20\n",
      "28\n",
      "36\n",
      "44\n",
      "52\n",
      "60\n",
      "68\n",
      "76\n",
      "84\n",
      "92\n"
     ]
    }
   ],
   "source": [
    "for sayi in range(12,99,8):\n",
    "    print(sayi)"
   ]
  },
  {
   "cell_type": "code",
   "execution_count": 25,
   "id": "b1b70865-f6ce-465c-9935-6ee635b765d1",
   "metadata": {},
   "outputs": [
    {
     "name": "stdout",
     "output_type": "stream",
     "text": [
      "20\n",
      "60\n"
     ]
    }
   ],
   "source": [
    "for sayi in range(12,99,8):\n",
    "    if sayi%5==0:\n",
    "        print(sayi)"
   ]
  },
  {
   "cell_type": "raw",
   "id": "002ef7a8-c9ee-4c41-969d-1b97038c529f",
   "metadata": {},
   "source": [
    "ENUMERATE"
   ]
  },
  {
   "cell_type": "code",
   "execution_count": 27,
   "id": "2e18a76d-e214-4da0-b380-5895280b637b",
   "metadata": {},
   "outputs": [
    {
     "name": "stdout",
     "output_type": "stream",
     "text": [
      "a\n",
      "b\n",
      "c\n",
      "d\n",
      "e\n"
     ]
    }
   ],
   "source": [
    "harfler=[\"a\",\"b\",\"c\",\"d\",\"e\"]\n",
    "for harf in harfler:\n",
    "    print(harf)"
   ]
  },
  {
   "cell_type": "code",
   "execution_count": 29,
   "id": "daeea32b-1eec-44ad-8193-63e1c5d837f0",
   "metadata": {},
   "outputs": [
    {
     "name": "stdout",
     "output_type": "stream",
     "text": [
      "(0, 'a')\n",
      "(1, 'b')\n",
      "(2, 'c')\n",
      "(3, 'd')\n",
      "(4, 'e')\n"
     ]
    }
   ],
   "source": [
    "harfler=[\"a\",\"b\",\"c\",\"d\",\"e\"]\n",
    "for harf in enumerate(harfler):                 #ENUMERATE indexlerini bulmamıza yardım eder\n",
    "    print(harf)"
   ]
  },
  {
   "cell_type": "code",
   "execution_count": 31,
   "id": "a9d86fe4-82d1-4623-94c7-e473308b8198",
   "metadata": {},
   "outputs": [
    {
     "name": "stdout",
     "output_type": "stream",
     "text": [
      "0\n",
      "1\n",
      "2\n",
      "3\n",
      "4\n"
     ]
    }
   ],
   "source": [
    "for index,harf in enumerate(harfler):                 #ENUMERATE indexlerini bulmamıza yardım eder\n",
    "    print(index)"
   ]
  },
  {
   "cell_type": "code",
   "execution_count": 39,
   "id": "62fa3b0c-6b2d-4fb5-b91c-6e6669bfbfe1",
   "metadata": {},
   "outputs": [
    {
     "name": "stdout",
     "output_type": "stream",
     "text": [
      "1. harf: a\n",
      "2. harf: b\n",
      "3. harf: c\n",
      "4. harf: d\n",
      "5. harf: e\n"
     ]
    }
   ],
   "source": [
    "for index,harf in enumerate(harfler):                 #ENUMERATE indexlerini bulmamıza yardım eder\n",
    "    print(\"{}. harf: {}\".format(index+1,harf))"
   ]
  },
  {
   "cell_type": "raw",
   "id": "b2826cfa-076f-44fc-b3e7-4bdc5841630b",
   "metadata": {},
   "source": [
    "ZIP"
   ]
  },
  {
   "cell_type": "code",
   "execution_count": 51,
   "id": "77174ac5-ff25-4e7d-9049-6cba20aceb46",
   "metadata": {},
   "outputs": [
    {
     "name": "stdout",
     "output_type": "stream",
     "text": [
      "TR : 1\n",
      "FR : 2\n",
      "DE : 3\n",
      "ENG : 4\n"
     ]
    }
   ],
   "source": [
    "ülkeler=[\"TR\",\"FR\",\"DE\",\"ENG\"]\n",
    "sıralamalar=range(1,5)\n",
    "#NOT:Burada iki listenin de uzunluğu aynı olmalı zip kullanabilmemiz için ör: len(ülkeler)=len(sıralamalar)\n",
    "for ülke,sıralaması in zip(ülkeler,sıralamalar):\n",
    "    print(ülke,\":\",sıralaması)"
   ]
  },
  {
   "cell_type": "raw",
   "id": "88dcdf90-f7bb-4363-bdb2-2728af8fec07",
   "metadata": {},
   "source": [
    "KOD OLMAYAN BİR NOT HÜCRESİ OLUŞTURACAĞIM ZAMAN BU CÜMLENİN TAMAMINI SEÇİP YUKARDAN RAW SEÇİYORUM!!"
   ]
  },
  {
   "cell_type": "raw",
   "id": "4833dca6-2667-40ae-b9c3-7757b4658d3d",
   "metadata": {},
   "source": [
    "BREAK KOMUTU"
   ]
  },
  {
   "cell_type": "code",
   "execution_count": 29,
   "id": "40ab86eb-1421-445b-b1d0-48dd07270059",
   "metadata": {},
   "outputs": [
    {
     "name": "stdout",
     "output_type": "stream",
     "text": [
      "c harfi 2. indexte\n",
      "c harfi 7. indexte\n",
      "c harfi 12. indexte\n",
      "c harfi 17. indexte\n",
      "c harfi 22. indexte\n",
      "c harfi 27. indexte\n",
      "c harfi 32. indexte\n",
      "c harfi 37. indexte\n",
      "c harfi 42. indexte\n",
      "c harfi 47. indexte\n"
     ]
    }
   ],
   "source": [
    "harfler=[\"a\",\"b\",\"c\",\"d\",\"e\"]*10   #aynı diziden 10 tane olduğunu düşünelim yani abcdeabcdeabcde... diye gitsin\n",
    "for index,harf in enumerate(harfler):\n",
    "    if harf==\"c\":\n",
    "        print (\"{} harfi {}. indexte\".format(harf,index))"
   ]
  },
  {
   "cell_type": "code",
   "execution_count": 31,
   "id": "d22502fd-c440-46a8-8326-8682612e8e13",
   "metadata": {},
   "outputs": [
    {
     "name": "stdout",
     "output_type": "stream",
     "text": [
      "c harfi 2. indexte\n"
     ]
    }
   ],
   "source": [
    "#eğer ilk c'de durmasını istiyorsak\n",
    "harfler=[\"a\",\"b\",\"c\",\"d\",\"e\"]*10   #aynı diziden 10 tane olduğunu düşünelim yani abcdeabcdeabcde... diye gitsin\n",
    "for index,harf in enumerate(harfler):\n",
    "    if harf==\"c\":\n",
    "        print (\"{} harfi {}. indexte\".format(harf,index))\n",
    "        break"
   ]
  },
  {
   "cell_type": "raw",
   "id": "ec8613bc-5dde-4d57-b537-7bb926e9cf12",
   "metadata": {},
   "source": [
    "CONTINUE KOMUTU"
   ]
  },
  {
   "cell_type": "code",
   "execution_count": 41,
   "id": "ea3f4cd7-ba79-475a-9fec-c8e0396aab87",
   "metadata": {},
   "outputs": [
    {
     "name": "stdout",
     "output_type": "stream",
     "text": [
      "1\n",
      "3\n",
      "5\n",
      "7\n",
      "9\n",
      "11\n",
      "13\n",
      "15\n",
      "17\n",
      "19\n",
      "21\n"
     ]
    }
   ],
   "source": [
    "for sayi in range(1,22):\n",
    "    if sayi%2==0:\n",
    "        continue\n",
    "    print(sayi)"
   ]
  },
  {
   "cell_type": "code",
   "execution_count": 43,
   "id": "df493c2f-00bc-4d31-97c7-8ccc911cd59e",
   "metadata": {},
   "outputs": [
    {
     "name": "stdout",
     "output_type": "stream",
     "text": [
      "1\n",
      "3\n",
      "5\n",
      "7\n",
      "9\n",
      "11\n",
      "13\n",
      "15\n",
      "17\n",
      "19\n",
      "21\n"
     ]
    }
   ],
   "source": [
    "for sayi in range(1,22):\n",
    "    if sayi%2==0:\n",
    "        pass\n",
    "    else:\n",
    "        print(sayi)\n",
    "    "
   ]
  },
  {
   "cell_type": "raw",
   "id": "f12e1b91-1931-4971-9ec8-e71124fb301c",
   "metadata": {},
   "source": [
    "BURADA HOCA TAM ÜSTÜNDE DURMADIĞI İÇİN BAŞKA KANALLARDAN BU KOMUTLARI TEKRAR İZLİCEM BURDAN SONRA BİRAZ TEKRAR ÖRNEKLERİ YAZICAM"
   ]
  },
  {
   "cell_type": "code",
   "execution_count": 47,
   "id": "e945d107-7ba4-421d-8e0e-d677690ff092",
   "metadata": {},
   "outputs": [
    {
     "name": "stdout",
     "output_type": "stream",
     "text": [
      "1\n",
      "2\n",
      "53\n",
      "63\n",
      "2\n",
      "4\n",
      "8\n",
      "toplam= 133\n"
     ]
    }
   ],
   "source": [
    "liste=[1,2,53,63,2,4,8]\n",
    "top=0\n",
    "for i in liste:\n",
    "    top+=i\n",
    "    print(i)\n",
    "print(\"toplam=\",top)"
   ]
  },
  {
   "cell_type": "code",
   "execution_count": 51,
   "id": "55be4180-5d8a-44f9-97ee-048effdaab67",
   "metadata": {},
   "outputs": [
    {
     "name": "stdout",
     "output_type": "stream",
     "text": [
      "50\n",
      "46\n",
      "44\n",
      "40\n",
      "38\n",
      "34\n",
      "32\n",
      "28\n",
      "26\n",
      "22\n",
      "20\n",
      "16\n",
      "14\n",
      "10\n",
      "8\n",
      "4\n"
     ]
    }
   ],
   "source": [
    "for i in range(50,2,-2): #50'den 2'ye kadar 2'şer azalarak git\n",
    "    if i%3==0:\n",
    "        continue            # eğer i'nin 3'e bölümünden kalan 0 olursa devam et yani atla ve döngüyü sonraki değere geçir (i'yi arttır ya da azalt)\n",
    "    print(i)   #yani burada anlamak açısından if dışındaki yerleri else miş gibi düşünüp if sağlandığında continue sayesinde else kısmı çalışmaz diye\n",
    "#düşünülebilir"
   ]
  },
  {
   "cell_type": "code",
   "execution_count": 75,
   "id": "ba1114f6-4aac-47e1-bc9c-381b26c64f37",
   "metadata": {},
   "outputs": [
    {
     "name": "stdout",
     "output_type": "stream",
     "text": [
      "1\n",
      "2\n",
      "5\n"
     ]
    }
   ],
   "source": [
    "for i in range(1,20):\n",
    "    if i%3==0:\n",
    "        break     #Break komutu 3 e bölünebilen sayı gördüğü an döngüden çıkarıyor  \n",
    "    print(i)\n",
    "print(5)   #buradaki print(5)'i break komutunun sadece döngüden çıkardığını göstermek için yazdım"
   ]
  },
  {
   "cell_type": "markdown",
   "id": "065e465a-7a3f-4eb4-9d58-1e1950de6ccf",
   "metadata": {},
   "source": [
    "**BAŞLIK İŞİNİ ÇÖZDÜM EHEHEHEHEHE**"
   ]
  },
  {
   "cell_type": "markdown",
   "id": "f4e24207-3e62-41d4-9580-4113becaacb3",
   "metadata": {},
   "source": [
    "**FONKSİYONLARA GEÇMEDEN ÖNCE HALA İŞLENMEDİĞİ İÇİN MERAK EDİP KULLANICIDAN VERİ ALMAYA BAKTIM**"
   ]
  },
  {
   "cell_type": "code",
   "execution_count": 102,
   "id": "867c6c5f-1449-4eef-ae05-e363dc59a3ba",
   "metadata": {},
   "outputs": [
    {
     "name": "stdin",
     "output_type": "stream",
     "text": [
      "Adınızı girin:  Emre\n",
      "Yaşınızı girin:  20\n"
     ]
    },
    {
     "name": "stdout",
     "output_type": "stream",
     "text": [
      "Merhaba, Emre :) 20 yaşındasınız.\n"
     ]
    }
   ],
   "source": [
    "# Kullanıcıdan adını girmesini isteyelim\n",
    "ad = input(\"Adınızı girin: \")\n",
    "\n",
    "# Kullanıcıdan yaşını girmesini isteyelim\n",
    "yas = input(\"Yaşınızı girin: \")\n",
    "\n",
    "# Kullanıcının adını ve yaşını ekrana yazdıralım\n",
    "print(f\"Merhaba, {ad} :) {yas} yaşındasınız.\")"
   ]
  },
  {
   "cell_type": "markdown",
   "id": "894d8567-0226-4152-8124-ebf51ae4a86f",
   "metadata": {},
   "source": [
    "**FONKSİYON YAPISI**"
   ]
  },
  {
   "cell_type": "raw",
   "id": "ff1820d1-faa3-44f3-bb35-7ac74dc54448",
   "metadata": {},
   "source": [
    "def <fonksiyon yapısı> (<argümanlar>): #snake_case ->   bu dile özgü yazım tipidir pythonda bes_bastır javada besBastır diye adlandırılır genelde\n",
    "    \"\"\"\"\" \n",
    "    Bu kod ne işe yarar                #docstring\n",
    "    \"\"\"\"\"\n",
    "    ...                                #return/print"
   ]
  },
  {
   "cell_type": "code",
   "execution_count": 109,
   "id": "a8a3532c-0522-4204-b2b3-caef5ad98175",
   "metadata": {},
   "outputs": [],
   "source": [
    "def bes_bastır():    \n",
    "    \"\"\"\n",
    "    Bu araya yazdığım şeylerin önemi yok '#'gibi çalışır bunu yapmak için üç kere  'é' (shifte basmadan) tuşuna basıp enter yaptım\n",
    "    Buraya genelde fonksiyonun ne işe yaradığı yazılır\n",
    "    \"\"\"\n",
    "    print(5)                 #BURADA KOMUT ÇALIŞIR AMA EKRANA BİŞİ YAZDIRMAZ"
   ]
  },
  {
   "cell_type": "code",
   "execution_count": 106,
   "id": "c4e43f0d-55fa-4215-9132-c7a0ecc8e9b0",
   "metadata": {},
   "outputs": [
    {
     "name": "stdout",
     "output_type": "stream",
     "text": [
      "5\n"
     ]
    }
   ],
   "source": [
    "bes_bastır()"
   ]
  },
  {
   "cell_type": "markdown",
   "id": "1156cb1d-5b6c-4e30-811a-1d795e09e179",
   "metadata": {},
   "source": [
    "**Fonksiyonlarda print/return farkı**"
   ]
  },
  {
   "cell_type": "code",
   "execution_count": null,
   "id": "b7229846-a74a-4310-ba90-7868276dda8d",
   "metadata": {},
   "outputs": [],
   "source": [
    "\"\"\"\n",
    "Sonda print yaptığımız zaman mesela print edilen 5 sayısı olsun direkt 5 i yazar ama 5 bir değişken değildir string de değildir int de değildir4\n",
    "fonksiyonun sonucu printle bir değişkene atanamaz ancak returnle atanabilir!\n",
    "\"\"\""
   ]
  },
  {
   "cell_type": "code",
   "execution_count": null,
   "id": "e4d40fca-7908-4dfe-bdb9-cfa38154287b",
   "metadata": {},
   "outputs": [],
   "source": [
    "def bes_bastır():    \n",
    "    print(5)  "
   ]
  },
  {
   "cell_type": "code",
   "execution_count": 112,
   "id": "512b4698-107f-4a42-8500-abb12f089340",
   "metadata": {},
   "outputs": [
    {
     "name": "stdout",
     "output_type": "stream",
     "text": [
      "5\n"
     ]
    }
   ],
   "source": [
    "a= bes_bastır()  \n",
    "a    #burada a yı değil de bes_bastır()'ı yazdı aslında değişken olan a'yı yazdırmadı print a deseydik yazdıramayacaktı"
   ]
  },
  {
   "cell_type": "code",
   "execution_count": 114,
   "id": "af8351cd-3e6b-44fc-88c2-5cce2440af24",
   "metadata": {},
   "outputs": [
    {
     "name": "stdout",
     "output_type": "stream",
     "text": [
      "None\n"
     ]
    }
   ],
   "source": [
    "print(a)   #yani fonksiyonda print kullandığımız için değişkene atayamadık bu sebeple none yani hiçbirşey değerini yazacak!"
   ]
  },
  {
   "cell_type": "code",
   "execution_count": 118,
   "id": "6cf2100c-e5d7-4320-8a03-fb703d74c471",
   "metadata": {},
   "outputs": [],
   "source": [
    "def bes_döndür(): \n",
    "    return 5         #Şimdi burada 5 değişken olabilir artık"
   ]
  },
  {
   "cell_type": "code",
   "execution_count": 120,
   "id": "5d3fd961-e142-41ca-8ba7-05f1e0ff20a7",
   "metadata": {},
   "outputs": [
    {
     "name": "stdout",
     "output_type": "stream",
     "text": [
      "5\n"
     ]
    }
   ],
   "source": [
    "a=bes_döndür()\n",
    "print(a)"
   ]
  },
  {
   "cell_type": "markdown",
   "id": "161a889a-5b7f-4b4b-90c0-d9381ab9129f",
   "metadata": {},
   "source": [
    "**Fonksiyonlarda Argümanlar**"
   ]
  },
  {
   "cell_type": "code",
   "execution_count": 123,
   "id": "1836040e-b44e-45d6-b643-d418fb6da6d7",
   "metadata": {},
   "outputs": [],
   "source": [
    "def sayi_döndür(sayi):\n",
    "    return(sayi)"
   ]
  },
  {
   "cell_type": "code",
   "execution_count": 127,
   "id": "4129327d-3ee7-44dc-95a4-59fbbde6c954",
   "metadata": {},
   "outputs": [
    {
     "data": {
      "text/plain": [
       "32"
      ]
     },
     "execution_count": 127,
     "metadata": {},
     "output_type": "execute_result"
    }
   ],
   "source": [
    "sayi_döndür(32)"
   ]
  },
  {
   "cell_type": "code",
   "execution_count": 129,
   "id": "8df63dcc-00da-45f4-ab0b-5a9c158b723b",
   "metadata": {},
   "outputs": [],
   "source": [
    "def sayi_döndür(sayi=250): #burada sayı için default yani varsayılan değer atadık hiçbir şey yazılmazsa 250 yazacak\n",
    "    return(sayi)"
   ]
  },
  {
   "cell_type": "code",
   "execution_count": 131,
   "id": "fb570129-dbb6-4dd5-a73c-192682a1e6ba",
   "metadata": {},
   "outputs": [
    {
     "data": {
      "text/plain": [
       "56"
      ]
     },
     "execution_count": 131,
     "metadata": {},
     "output_type": "execute_result"
    }
   ],
   "source": [
    "sayi_döndür(56)"
   ]
  },
  {
   "cell_type": "code",
   "execution_count": 133,
   "id": "26d020b3-4adc-4db3-af99-199967d76703",
   "metadata": {},
   "outputs": [
    {
     "data": {
      "text/plain": [
       "250"
      ]
     },
     "execution_count": 133,
     "metadata": {},
     "output_type": "execute_result"
    }
   ],
   "source": [
    "sayi_döndür()"
   ]
  },
  {
   "cell_type": "code",
   "execution_count": 139,
   "id": "b190038d-e4b6-4389-8fed-57dc4347d0a4",
   "metadata": {},
   "outputs": [],
   "source": [
    "def sayı_döndür(a,b):\n",
    "    return a\n",
    "    return b"
   ]
  },
  {
   "cell_type": "code",
   "execution_count": 141,
   "id": "660b4ef3-df0f-43ab-a061-9bd71b289fc1",
   "metadata": {},
   "outputs": [
    {
     "data": {
      "text/plain": [
       "5"
      ]
     },
     "execution_count": 141,
     "metadata": {},
     "output_type": "execute_result"
    }
   ],
   "source": [
    "sayı_döndür(5,10)  #birden çok return yapıldığı zaman ilki çalıştığında diğerlerine hiç uğranmaz yani çalışmaz"
   ]
  },
  {
   "cell_type": "code",
   "execution_count": 149,
   "id": "f9e5eba1-3e7a-4e92-aebf-4279e3a068df",
   "metadata": {},
   "outputs": [],
   "source": [
    "def küçük_sayı_döndür(a,b):\n",
    "    if a<b:\n",
    "        return a\n",
    "    else:\n",
    "        return b\n"
   ]
  },
  {
   "cell_type": "code",
   "execution_count": 151,
   "id": "b81874d1-6b4d-4422-9b71-08154b99c629",
   "metadata": {},
   "outputs": [
    {
     "data": {
      "text/plain": [
       "5"
      ]
     },
     "execution_count": 151,
     "metadata": {},
     "output_type": "execute_result"
    }
   ],
   "source": [
    "küçük_sayı_döndür(10,5)"
   ]
  },
  {
   "cell_type": "markdown",
   "id": "f2c2917f-4a88-4f21-bfd6-296512d480a4",
   "metadata": {},
   "source": [
    "**Fonksiyonların Birbiri ile İlişkisi**"
   ]
  },
  {
   "cell_type": "code",
   "execution_count": 154,
   "id": "aac10925-8262-490c-a846-b9ea65c04a9b",
   "metadata": {},
   "outputs": [],
   "source": [
    "def metin_döndür(a,b):\n",
    "    küçük_sayı=küçük_sayı_döndür(a,b)\n",
    "    şablon_metin=\"{} daha küçük sayıdır.\".format(küçük_sayı)\n",
    "    return şablon_metin"
   ]
  },
  {
   "cell_type": "code",
   "execution_count": 156,
   "id": "b2f93b2f-70f1-4109-9033-bb5a97f22e9c",
   "metadata": {},
   "outputs": [
    {
     "data": {
      "text/plain": [
       "'5 daha küçük sayıdır.'"
      ]
     },
     "execution_count": 156,
     "metadata": {},
     "output_type": "execute_result"
    }
   ],
   "source": [
    "metin_döndür(5,10)"
   ]
  },
  {
   "cell_type": "markdown",
   "id": "860cecf9-d593-481b-b87e-5a1dcdd57ed5",
   "metadata": {},
   "source": [
    "**Fonksiyonlar birden fazla sonuç döndürebilir**"
   ]
  },
  {
   "cell_type": "code",
   "execution_count": 163,
   "id": "fc4171ad-4cc4-490c-a788-36e97fd47bb5",
   "metadata": {},
   "outputs": [],
   "source": [
    "def isim_soyisim_ayırma(isim_soyisim):\n",
    "    isim=\"ad: \"+isim_soyisim.split()[0]\n",
    "    soyisim=\"soyad: \"+isim_soyisim.split()[1]\n",
    "    return isim,soyisim"
   ]
  },
  {
   "cell_type": "code",
   "execution_count": 165,
   "id": "04b4b4e0-ddfc-436c-bb00-8bf05ac729e4",
   "metadata": {},
   "outputs": [
    {
     "data": {
      "text/plain": [
       "('ad: Emre', 'soyad: Irmak')"
      ]
     },
     "execution_count": 165,
     "metadata": {},
     "output_type": "execute_result"
    }
   ],
   "source": [
    "isim_soyisim_ayırma(\"Emre Irmak\")"
   ]
  },
  {
   "cell_type": "code",
   "execution_count": 167,
   "id": "437a1749-5038-4858-a623-a794665c51cb",
   "metadata": {},
   "outputs": [
    {
     "name": "stdout",
     "output_type": "stream",
     "text": [
      "ad: Emre\n",
      "soyad: Irmak\n"
     ]
    }
   ],
   "source": [
    "a,b=isim_soyisim_ayırma(\"Emre Irmak\")\n",
    "print(a)\n",
    "print(b)"
   ]
  },
  {
   "cell_type": "markdown",
   "id": "3ef9502d-8a4a-43e9-9967-6aa536018a1d",
   "metadata": {},
   "source": [
    "**join komutu**"
   ]
  },
  {
   "cell_type": "code",
   "execution_count": 175,
   "id": "2aed18e5-af79-4cd7-9ebb-153af12ec52a",
   "metadata": {},
   "outputs": [
    {
     "data": {
      "text/plain": [
       "'Emre ---Irmak'"
      ]
     },
     "execution_count": 175,
     "metadata": {},
     "output_type": "execute_result"
    }
   ],
   "source": [
    "\"---\".join([\"Emre \",\"Irmak\"])  #Burada yapılan şey iki ayrı stringi \"\".join\"den önce yazdığımız şeyi araya katarak birleştiriyor"
   ]
  },
  {
   "cell_type": "markdown",
   "id": "38d9874e-b641-4262-8d6a-e5d14398e4eb",
   "metadata": {},
   "source": [
    "**args Argümanı**"
   ]
  },
  {
   "cell_type": "code",
   "execution_count": 188,
   "id": "5daa843d-8e60-4568-aff6-d825da4cb21b",
   "metadata": {},
   "outputs": [],
   "source": [
    "def isim_soyisim_birlestir(isim,soyisim):\n",
    "    return \" \".join([isim,soyisim])"
   ]
  },
  {
   "cell_type": "code",
   "execution_count": 190,
   "id": "8bd5cc5b-c9aa-4b3c-8461-0be00ac0005f",
   "metadata": {},
   "outputs": [
    {
     "data": {
      "text/plain": [
       "'Ece Aydın'"
      ]
     },
     "execution_count": 190,
     "metadata": {},
     "output_type": "execute_result"
    }
   ],
   "source": [
    "isim_soyisim_birlestir(\"Ece\",\"Aydın\")"
   ]
  },
  {
   "cell_type": "code",
   "execution_count": 192,
   "id": "95758937-2341-4cde-b0a9-ff511ac0b59e",
   "metadata": {},
   "outputs": [
    {
     "ename": "TypeError",
     "evalue": "isim_soyisim_birlestir() takes 2 positional arguments but 3 were given",
     "output_type": "error",
     "traceback": [
      "\u001b[1;31m---------------------------------------------------------------------------\u001b[0m",
      "\u001b[1;31mTypeError\u001b[0m                                 Traceback (most recent call last)",
      "Cell \u001b[1;32mIn[192], line 1\u001b[0m\n\u001b[1;32m----> 1\u001b[0m isim_soyisim_birlestir(\u001b[38;5;124m\"\u001b[39m\u001b[38;5;124mAhmet\u001b[39m\u001b[38;5;124m\"\u001b[39m,\u001b[38;5;124m\"\u001b[39m\u001b[38;5;124mEmre\u001b[39m\u001b[38;5;124m\"\u001b[39m,\u001b[38;5;124m\"\u001b[39m\u001b[38;5;124mIrmak\u001b[39m\u001b[38;5;124m\"\u001b[39m)\n",
      "\u001b[1;31mTypeError\u001b[0m: isim_soyisim_birlestir() takes 2 positional arguments but 3 were given"
     ]
    }
   ],
   "source": [
    "isim_soyisim_birlestir(\"Ahmet\",\"Emre\",\"Irmak\")  #burada çıkan hata iki tane değişkenin vardı ama sen 3 tane değişken vermeye çalıştın diyor"
   ]
  },
  {
   "cell_type": "code",
   "execution_count": 194,
   "id": "d7d1c37a-1a23-419a-ae7f-df0c10343c4a",
   "metadata": {},
   "outputs": [],
   "source": [
    "def isim_soyisim_birlestir(*args):   #args komutu ile istediğimiz kadar değişken alabiliriz. args burada liste görevi görür listenin elemanları \n",
    "#tek tek yazdırılabilir\n",
    "    return \" \".join(args)"
   ]
  },
  {
   "cell_type": "code",
   "execution_count": 200,
   "id": "5675227d-c327-4ae6-adf8-de2ffa5a79ea",
   "metadata": {},
   "outputs": [
    {
     "data": {
      "text/plain": [
       "'Ahmet Emre Irmak'"
      ]
     },
     "execution_count": 200,
     "metadata": {},
     "output_type": "execute_result"
    }
   ],
   "source": [
    "isim_soyisim_birlestir(\"Ahmet\",\"Emre\",\"Irmak\")"
   ]
  },
  {
   "cell_type": "code",
   "execution_count": 202,
   "id": "cde41a41-d010-4de3-8d2f-9446ed02ca14",
   "metadata": {},
   "outputs": [],
   "source": [
    "#Eğer bir dictionary kullanacaksak args yerine kwargs kullanmamız gerekiyor Not: Dictionary çok boyutlu listelerdir!!"
   ]
  },
  {
   "cell_type": "code",
   "execution_count": 204,
   "id": "0bd78cf4-bc87-4969-a371-51153f2563db",
   "metadata": {},
   "outputs": [],
   "source": [
    "def göbek_adı_yazdır(**kwargs):\n",
    "    if \"göbekadı\" in kwargs:\n",
    "        print(kwargs[\"göbekadı\"])\n",
    "    else:\n",
    "        print(\"Göbek adı bulunamadı\")"
   ]
  },
  {
   "cell_type": "code",
   "execution_count": 206,
   "id": "b28d5035-15af-4ee8-bfcb-d8964ff67b15",
   "metadata": {},
   "outputs": [
    {
     "name": "stdout",
     "output_type": "stream",
     "text": [
      "Emre\n"
     ]
    }
   ],
   "source": [
    "göbek_adı_yazdır(adi=\"Ahmet\",göbekadı=\"Emre\",soyadı=\"Irmak\")"
   ]
  },
  {
   "cell_type": "code",
   "execution_count": 208,
   "id": "550b4a94-b52e-4212-83c3-d9abbd1ca183",
   "metadata": {},
   "outputs": [
    {
     "name": "stdout",
     "output_type": "stream",
     "text": [
      "Göbek adı bulunamadı\n"
     ]
    }
   ],
   "source": [
    "göbek_adı_yazdır(adi=\"Ece\",soyadı=\"Aydın\")"
   ]
  },
  {
   "cell_type": "markdown",
   "id": "63263835-1c4a-442b-987b-040a6725aa76",
   "metadata": {},
   "source": [
    "**map, filter ve lambda Expressions**"
   ]
  },
  {
   "cell_type": "code",
   "execution_count": 211,
   "id": "0b142b68-e609-490f-ba08-048a9afe3b29",
   "metadata": {},
   "outputs": [],
   "source": [
    "def karesini_al(x):\n",
    "    return x**2       #üs ifadesini oluşturmak için ** yazmamız gerekiyor x**5=x üzeri 5"
   ]
  },
  {
   "cell_type": "code",
   "execution_count": 213,
   "id": "a2f15753-e949-4604-b737-e324c3e103e7",
   "metadata": {},
   "outputs": [
    {
     "data": {
      "text/plain": [
       "25"
      ]
     },
     "execution_count": 213,
     "metadata": {},
     "output_type": "execute_result"
    }
   ],
   "source": [
    "karesini_al(5)"
   ]
  },
  {
   "cell_type": "code",
   "execution_count": 217,
   "id": "6687ac43-15f5-4ee1-8199-1a0f51548b5b",
   "metadata": {},
   "outputs": [
    {
     "data": {
      "text/plain": [
       "[1, 2, 3, 4, 5]"
      ]
     },
     "execution_count": 217,
     "metadata": {},
     "output_type": "execute_result"
    }
   ],
   "source": [
    "sayilar=list(range(1,6))\n",
    "sayilar"
   ]
  },
  {
   "cell_type": "code",
   "execution_count": 231,
   "id": "011fd068-e196-4bd0-989d-a6d06b6aa99e",
   "metadata": {},
   "outputs": [
    {
     "name": "stdout",
     "output_type": "stream",
     "text": [
      "[1, 2, 3, 4, 5]\n",
      "[1, 4, 9, 16, 25]\n"
     ]
    }
   ],
   "source": [
    "sayilar=list(range(1,6))\n",
    "print(sayilar)\n",
    "for index in range(len(sayilar)):\n",
    "    sayilar[index]=karesini_al(sayilar[index])\n",
    "print(sayilar)"
   ]
  },
  {
   "cell_type": "code",
   "execution_count": 245,
   "id": "76b44ab6-905a-4855-8d32-feed17b3c622",
   "metadata": {},
   "outputs": [
    {
     "data": {
      "text/plain": [
       "[1, 4, 9, 16, 25]"
      ]
     },
     "execution_count": 245,
     "metadata": {},
     "output_type": "execute_result"
    }
   ],
   "source": [
    "sayilar=[*range(1,6)]   #list(range(1,6))=[*range(1,6)]\n",
    "list(map(karesini_al, sayilar))  #map komutu döngü kullanmadan fonksiyonu listenin tüm değişkenlerine uygulamamızı sağlar"
   ]
  },
  {
   "cell_type": "code",
   "execution_count": 247,
   "id": "f01e33f4-54c0-4b06-8ced-7b939e71ff3a",
   "metadata": {},
   "outputs": [],
   "source": [
    "def çift_sayıları_filtrele(x):\n",
    "    if x%2==0:\n",
    "        return x\n",
    "    #else:\n",
    "    #    return None"
   ]
  },
  {
   "cell_type": "code",
   "execution_count": 249,
   "id": "8db3332e-df91-48fc-a9a9-a9777d0d4a1e",
   "metadata": {},
   "outputs": [
    {
     "data": {
      "text/plain": [
       "6"
      ]
     },
     "execution_count": 249,
     "metadata": {},
     "output_type": "execute_result"
    }
   ],
   "source": [
    "çift_sayıları_filtrele(6)"
   ]
  },
  {
   "cell_type": "code",
   "execution_count": 251,
   "id": "239d6659-28b5-45fb-92a1-35a150141759",
   "metadata": {},
   "outputs": [],
   "source": [
    "def çift_sayıları_filtrele(x): \n",
    "    return x if x%2==0 else None     #Daha güzel bir yazım tarzı"
   ]
  },
  {
   "cell_type": "code",
   "execution_count": 253,
   "id": "0253189c-89cf-4fe4-a152-d8e347c46d7b",
   "metadata": {},
   "outputs": [
    {
     "data": {
      "text/plain": [
       "8"
      ]
     },
     "execution_count": 253,
     "metadata": {},
     "output_type": "execute_result"
    }
   ],
   "source": [
    "çift_sayıları_filtrele(8)"
   ]
  },
  {
   "cell_type": "code",
   "execution_count": 257,
   "id": "099b527c-dd63-49a8-b064-b8c0c80272ff",
   "metadata": {},
   "outputs": [
    {
     "data": {
      "text/plain": [
       "[2, 4, 6, 8, 10, 12, 14, 16]"
      ]
     },
     "execution_count": 257,
     "metadata": {},
     "output_type": "execute_result"
    }
   ],
   "source": [
    "sayilar=[*range(1,18)]\n",
    "list(filter(çift_sayıları_filtrele,sayilar))   #dizinin arasından sadece belli elemanlara işlem uygalanıyorsa filter komutu kullanılır onun dışında \n",
    "#maple aynı görevi görür"
   ]
  },
  {
   "cell_type": "code",
   "execution_count": 261,
   "id": "e28ed6ab-6191-4bcd-b004-513316f12d94",
   "metadata": {},
   "outputs": [
    {
     "data": {
      "text/plain": [
       "[None,\n",
       " 2,\n",
       " None,\n",
       " 4,\n",
       " None,\n",
       " 6,\n",
       " None,\n",
       " 8,\n",
       " None,\n",
       " 10,\n",
       " None,\n",
       " 12,\n",
       " None,\n",
       " 14,\n",
       " None,\n",
       " 16,\n",
       " None]"
      ]
     },
     "execution_count": 261,
     "metadata": {},
     "output_type": "execute_result"
    }
   ],
   "source": [
    "sayilar=[*range(1,18)]\n",
    "list(map(çift_sayıları_filtrele,sayilar))   #eğer map komutu kullanırsak 2'ye bölünemeyenleri de döndürür ama none olarak"
   ]
  },
  {
   "cell_type": "code",
   "execution_count": 275,
   "id": "e57d9480-06d3-4209-8fa7-7a6574ec88c8",
   "metadata": {},
   "outputs": [
    {
     "data": {
      "text/plain": [
       "[1, 8, 27, 64, 125, 216, 343, 512, 729, 1000, 1331, 1728, 2197, 2744]"
      ]
     },
     "execution_count": 275,
     "metadata": {},
     "output_type": "execute_result"
    }
   ],
   "source": [
    "sayilar=[*range(1,15)]\n",
    "list(map(lambda sayi: sayi**3 ,sayilar))  #lambda komutunu kullanarak bir nevi yol üstündeyken fonksiyon oluşturdum\n",
    "#yani her seferinde önceden fonksiyon oluşturmuş olmamıza gerek yok!"
   ]
  },
  {
   "cell_type": "code",
   "execution_count": 283,
   "id": "5f048767-2201-4c2a-8357-37ee87984820",
   "metadata": {},
   "outputs": [
    {
     "data": {
      "text/plain": [
       "[3, 6, 9, 12]"
      ]
     },
     "execution_count": 283,
     "metadata": {},
     "output_type": "execute_result"
    }
   ],
   "source": [
    "sayilar=[*range(1,15)]\n",
    "list(filter(lambda sayi:sayi if sayi%3==0 else None ,sayilar))"
   ]
  },
  {
   "cell_type": "markdown",
   "id": "7ec55ebd-973e-4062-918b-88bd94df2851",
   "metadata": {},
   "source": [
    "**KULLANICI GİRDİSİ**"
   ]
  },
  {
   "cell_type": "code",
   "execution_count": 286,
   "id": "c061dc34-bed2-4038-a00f-a50e24fbf0e5",
   "metadata": {},
   "outputs": [
    {
     "name": "stdin",
     "output_type": "stream",
     "text": [
      "Bir sayı girin: 18\n"
     ]
    },
    {
     "data": {
      "text/plain": [
       "'18'"
      ]
     },
     "execution_count": 286,
     "metadata": {},
     "output_type": "execute_result"
    }
   ],
   "source": [
    "input(\"Bir sayı girin:\")"
   ]
  },
  {
   "cell_type": "code",
   "execution_count": 288,
   "id": "ba868adc-94c0-44fe-b45c-b48cf544448a",
   "metadata": {},
   "outputs": [
    {
     "name": "stdin",
     "output_type": "stream",
     "text": [
      "Bir sayı girin: 5\n"
     ]
    },
    {
     "data": {
      "text/plain": [
       "str"
      ]
     },
     "execution_count": 288,
     "metadata": {},
     "output_type": "execute_result"
    }
   ],
   "source": [
    "girdi=input(\"Bir sayı girin:\")\n",
    "type(girdi)    #eğer biz aldığımız inputun tipini belirtmezsek string algılar"
   ]
  },
  {
   "cell_type": "code",
   "execution_count": 290,
   "id": "d3deda99-88fa-4a66-abb4-c06ea699a9d9",
   "metadata": {},
   "outputs": [
    {
     "name": "stdin",
     "output_type": "stream",
     "text": [
      "Bir sayı girin: 5\n"
     ]
    },
    {
     "data": {
      "text/plain": [
       "int"
      ]
     },
     "execution_count": 290,
     "metadata": {},
     "output_type": "execute_result"
    }
   ],
   "source": [
    "girdi=input(\"Bir sayı girin:\")\n",
    "type(int(girdi)) "
   ]
  },
  {
   "cell_type": "code",
   "execution_count": 300,
   "id": "e47efaba-822d-4d2c-ab59-af4411f2a558",
   "metadata": {},
   "outputs": [
    {
     "name": "stdin",
     "output_type": "stream",
     "text": [
      "Bir sayı girin: 5\n"
     ]
    },
    {
     "data": {
      "text/plain": [
       "5"
      ]
     },
     "execution_count": 300,
     "metadata": {},
     "output_type": "execute_result"
    }
   ],
   "source": [
    "girdi=input(\"Bir sayı girin:\")\n",
    "int(girdi)          #artık integer olarak algılayacak"
   ]
  },
  {
   "cell_type": "code",
   "execution_count": 310,
   "id": "0bc3dc52-0ebc-4f1c-b2f2-12b865051108",
   "metadata": {},
   "outputs": [],
   "source": [
    "def uygulama():\n",
    "    girdi=input(\"Lütfen sayı giriniz:\")\n",
    "    islem=input(\"girdiğiniz sayı tek mi, çift mi? :\")\n",
    "    if int(girdi)%2==0:\n",
    "        if islem==\"çift\":\n",
    "            return \"Evet {} sayısı bir çift sayıdır.\".format(girdi)\n",
    "        else:\n",
    "            return \"Hayır {} sayısı bir çift sayıdır!\".format(girdi)\n",
    "    elif int(girdi)%2==1:\n",
    "        if islem==\"tek\":\n",
    "            return \"Evet {} sayısı bir tek sayıdır.\".format(girdi)\n",
    "        else:\n",
    "            return \"Hayır {} sayısı bir tek sayıdır!\".format(girdi)\n",
    "            "
   ]
  },
  {
   "cell_type": "code",
   "execution_count": 312,
   "id": "7eb0ef1f-0c25-4663-aa86-401ab6285469",
   "metadata": {},
   "outputs": [
    {
     "name": "stdin",
     "output_type": "stream",
     "text": [
      "Lütfen sayı giriniz: 19\n",
      "girdiğiniz sayı tek mi, çift mi? : çift\n"
     ]
    },
    {
     "data": {
      "text/plain": [
       "'Hayır 19 sayısı bir tek sayıdır!'"
      ]
     },
     "execution_count": 312,
     "metadata": {},
     "output_type": "execute_result"
    }
   ],
   "source": [
    "uygulama()"
   ]
  },
  {
   "cell_type": "markdown",
   "id": "58cef164-fb94-4d93-a5ac-f9f7fb86a8c6",
   "metadata": {},
   "source": [
    "**KULLANICI GİRDİSİNİ ONAYLAMAK**"
   ]
  },
  {
   "cell_type": "code",
   "execution_count": 315,
   "id": "71f5d963-98f2-43a6-b496-31d065d776ce",
   "metadata": {},
   "outputs": [],
   "source": [
    "def sayı_girdisi_kontrol():\n",
    "    girdi=input(\"Bir sayı giriniz:\")\n",
    "    if girdi.isdigit():    #eğer girdi sayı ise diyoruz\n",
    "        print(\"TEBRİKLER INTEGER TİPİ VERİ GİRDİNİZ\")\n",
    "    else:\n",
    "        print(\"ÜZGÜNÜM INTEGER TİPİ VERİ GİRMEDİNİZ HATA!\")"
   ]
  },
  {
   "cell_type": "code",
   "execution_count": 317,
   "id": "06d0696f-bf29-4b88-b200-769051791c78",
   "metadata": {},
   "outputs": [
    {
     "name": "stdin",
     "output_type": "stream",
     "text": [
      "Bir sayı giriniz: ahmet\n"
     ]
    },
    {
     "name": "stdout",
     "output_type": "stream",
     "text": [
      "ÜZGÜNÜM INTEGER TİPİ VERİ GİRMEDİNİZ HATA!\n"
     ]
    }
   ],
   "source": [
    "sayı_girdisi_kontrol()"
   ]
  },
  {
   "cell_type": "code",
   "execution_count": 319,
   "id": "450a0860-be1f-4396-8672-bbd8984d0ed4",
   "metadata": {},
   "outputs": [],
   "source": [
    "def sayı_girdisi_kontrol_döngü():\n",
    "    girdi=input(\"Bir sayı giriniz:\")\n",
    "    while not girdi.isdigit():\n",
    "        print(\"ÜZGÜNÜM INTEGER TİPİ VERİ GİRMEDİNİZ HATA!\")\n",
    "        girdi=input(\"Bir sayı giriniz:\")\n",
    "    else:\n",
    "        print(\"TEBRİKLER INTEGER TİPİ VERİ GİRDİNİZ\")\n"
   ]
  },
  {
   "cell_type": "code",
   "execution_count": 321,
   "id": "af96bbe5-a6f1-476e-ba73-c494b8cad14b",
   "metadata": {},
   "outputs": [
    {
     "name": "stdin",
     "output_type": "stream",
     "text": [
      "Bir sayı giriniz: ahmet\n"
     ]
    },
    {
     "name": "stdout",
     "output_type": "stream",
     "text": [
      "ÜZGÜNÜM INTEGER TİPİ VERİ GİRMEDİNİZ HATA!\n"
     ]
    },
    {
     "name": "stdin",
     "output_type": "stream",
     "text": [
      "Bir sayı giriniz: emre\n"
     ]
    },
    {
     "name": "stdout",
     "output_type": "stream",
     "text": [
      "ÜZGÜNÜM INTEGER TİPİ VERİ GİRMEDİNİZ HATA!\n"
     ]
    },
    {
     "name": "stdin",
     "output_type": "stream",
     "text": [
      "Bir sayı giriniz: ırmak\n"
     ]
    },
    {
     "name": "stdout",
     "output_type": "stream",
     "text": [
      "ÜZGÜNÜM INTEGER TİPİ VERİ GİRMEDİNİZ HATA!\n"
     ]
    },
    {
     "name": "stdin",
     "output_type": "stream",
     "text": [
      "Bir sayı giriniz: 15\n"
     ]
    },
    {
     "name": "stdout",
     "output_type": "stream",
     "text": [
      "TEBRİKLER INTEGER TİPİ VERİ GİRDİNİZ\n"
     ]
    }
   ],
   "source": [
    "sayı_girdisi_kontrol_döngü()"
   ]
  },
  {
   "cell_type": "code",
   "execution_count": 327,
   "id": "55cc594b-c693-42c1-b843-0adfb3c519a6",
   "metadata": {},
   "outputs": [],
   "source": [
    "def email_kontrol():\n",
    "    eposta=input(\"Geçerli bir e-mail giriniz\")\n",
    "    while not((\"@\"in eposta)and(\".\"in eposta)):\n",
    "        print(\"Üzgünüm! Bu geçerli bir e-mail değil\")\n",
    "        eposta=input(\"Geçerli bir e-mail giriniz\")\n",
    "    else:\n",
    "        print(\"Tebrikler başarıyla giriş yaptınız\")\n"
   ]
  },
  {
   "cell_type": "code",
   "execution_count": 329,
   "id": "6177d37f-8923-4226-90f0-c774828b10b3",
   "metadata": {},
   "outputs": [
    {
     "name": "stdin",
     "output_type": "stream",
     "text": [
      "Geçerli bir e-mail giriniz a\n"
     ]
    },
    {
     "name": "stdout",
     "output_type": "stream",
     "text": [
      "Üzgünüm! Bu geçerli bir e-mail değil\n"
     ]
    },
    {
     "name": "stdin",
     "output_type": "stream",
     "text": [
      "Geçerli bir e-mail giriniz b\n"
     ]
    },
    {
     "name": "stdout",
     "output_type": "stream",
     "text": [
      "Üzgünüm! Bu geçerli bir e-mail değil\n"
     ]
    },
    {
     "name": "stdin",
     "output_type": "stream",
     "text": [
      "Geçerli bir e-mail giriniz 2132132445\n"
     ]
    },
    {
     "name": "stdout",
     "output_type": "stream",
     "text": [
      "Üzgünüm! Bu geçerli bir e-mail değil\n"
     ]
    },
    {
     "name": "stdin",
     "output_type": "stream",
     "text": [
      "Geçerli bir e-mail giriniz emreirmak2022@gmail.com\n"
     ]
    },
    {
     "name": "stdout",
     "output_type": "stream",
     "text": [
      "Tebrikler başarıyla giriş yaptınız\n"
     ]
    }
   ],
   "source": [
    "email_kontrol()"
   ]
  },
  {
   "cell_type": "markdown",
   "id": "b38fb194-0cdd-48ba-917d-3491f878d6b5",
   "metadata": {},
   "source": [
    "**Try Exept ve Finally Komutları**"
   ]
  },
  {
   "cell_type": "code",
   "execution_count": 334,
   "id": "aaa08619-8041-4359-bab2-3c4dc1e2b1ab",
   "metadata": {},
   "outputs": [
    {
     "data": {
      "text/plain": [
       "6"
      ]
     },
     "execution_count": 334,
     "metadata": {},
     "output_type": "execute_result"
    }
   ],
   "source": [
    "round(5.8)    #round komutu en yakına yuvarlar"
   ]
  },
  {
   "cell_type": "code",
   "execution_count": 338,
   "id": "86790074-222b-42e8-8ff0-bad02f00b31e",
   "metadata": {},
   "outputs": [],
   "source": [
    "def tam_sayıya_çevir():\n",
    "    girdi=input(\"Bir ondalık sayı giriniz\")\n",
    "    print(\"Yuvarlama işleminin sonucu: {}\".format(round(girdi)))"
   ]
  },
  {
   "cell_type": "code",
   "execution_count": 340,
   "id": "5339fc1e-24d9-4b10-9488-19786c38c437",
   "metadata": {},
   "outputs": [
    {
     "name": "stdin",
     "output_type": "stream",
     "text": [
      "Bir ondalık sayı giriniz 5\n"
     ]
    },
    {
     "ename": "TypeError",
     "evalue": "type str doesn't define __round__ method",
     "output_type": "error",
     "traceback": [
      "\u001b[1;31m---------------------------------------------------------------------------\u001b[0m",
      "\u001b[1;31mTypeError\u001b[0m                                 Traceback (most recent call last)",
      "Cell \u001b[1;32mIn[340], line 1\u001b[0m\n\u001b[1;32m----> 1\u001b[0m tam_sayıya_çevir()\n",
      "Cell \u001b[1;32mIn[338], line 3\u001b[0m, in \u001b[0;36mtam_sayıya_çevir\u001b[1;34m()\u001b[0m\n\u001b[0;32m      1\u001b[0m \u001b[38;5;28;01mdef\u001b[39;00m \u001b[38;5;21mtam_sayıya_çevir\u001b[39m():\n\u001b[0;32m      2\u001b[0m     girdi\u001b[38;5;241m=\u001b[39m\u001b[38;5;28minput\u001b[39m(\u001b[38;5;124m\"\u001b[39m\u001b[38;5;124mBir ondalık sayı giriniz\u001b[39m\u001b[38;5;124m\"\u001b[39m)\n\u001b[1;32m----> 3\u001b[0m     \u001b[38;5;28mprint\u001b[39m(\u001b[38;5;124m\"\u001b[39m\u001b[38;5;124mYuvarlama işleminin sonucu: \u001b[39m\u001b[38;5;132;01m{}\u001b[39;00m\u001b[38;5;124m\"\u001b[39m\u001b[38;5;241m.\u001b[39mformat(\u001b[38;5;28mround\u001b[39m(girdi)))\n",
      "\u001b[1;31mTypeError\u001b[0m: type str doesn't define __round__ method"
     ]
    }
   ],
   "source": [
    "tam_sayıya_çevir()   #hata vericek çünkü input verileri her zaman string olarak alır"
   ]
  },
  {
   "cell_type": "code",
   "execution_count": 344,
   "id": "370e5766-ba7c-4149-9de6-a45a4e1bc717",
   "metadata": {},
   "outputs": [],
   "source": [
    "def tam_sayıya_çevir():\n",
    "    girdi=input(\"Bir ondalık sayı giriniz\")\n",
    "    print(\"Yuvarlama işleminin sonucu: {}\".format(round(float(girdi))))"
   ]
  },
  {
   "cell_type": "code",
   "execution_count": 346,
   "id": "e8990853-c025-46dc-9979-03ead4a1c0c2",
   "metadata": {},
   "outputs": [
    {
     "name": "stdin",
     "output_type": "stream",
     "text": [
      "Bir ondalık sayı giriniz 5.3\n"
     ]
    },
    {
     "name": "stdout",
     "output_type": "stream",
     "text": [
      "Yuvarlama işleminin sonucu: 5\n"
     ]
    }
   ],
   "source": [
    "tam_sayıya_çevir()"
   ]
  },
  {
   "cell_type": "code",
   "execution_count": 348,
   "id": "90e558a6-4829-47f6-81c5-4717e5bcc527",
   "metadata": {},
   "outputs": [
    {
     "name": "stdin",
     "output_type": "stream",
     "text": [
      "Bir ondalık sayı giriniz a\n"
     ]
    },
    {
     "ename": "ValueError",
     "evalue": "could not convert string to float: 'a'",
     "output_type": "error",
     "traceback": [
      "\u001b[1;31m---------------------------------------------------------------------------\u001b[0m",
      "\u001b[1;31mValueError\u001b[0m                                Traceback (most recent call last)",
      "Cell \u001b[1;32mIn[348], line 1\u001b[0m\n\u001b[1;32m----> 1\u001b[0m tam_sayıya_çevir()\n",
      "Cell \u001b[1;32mIn[344], line 3\u001b[0m, in \u001b[0;36mtam_sayıya_çevir\u001b[1;34m()\u001b[0m\n\u001b[0;32m      1\u001b[0m \u001b[38;5;28;01mdef\u001b[39;00m \u001b[38;5;21mtam_sayıya_çevir\u001b[39m():\n\u001b[0;32m      2\u001b[0m     girdi\u001b[38;5;241m=\u001b[39m\u001b[38;5;28minput\u001b[39m(\u001b[38;5;124m\"\u001b[39m\u001b[38;5;124mBir ondalık sayı giriniz\u001b[39m\u001b[38;5;124m\"\u001b[39m)\n\u001b[1;32m----> 3\u001b[0m     \u001b[38;5;28mprint\u001b[39m(\u001b[38;5;124m\"\u001b[39m\u001b[38;5;124mYuvarlama işleminin sonucu: \u001b[39m\u001b[38;5;132;01m{}\u001b[39;00m\u001b[38;5;124m\"\u001b[39m\u001b[38;5;241m.\u001b[39mformat(\u001b[38;5;28mround\u001b[39m(\u001b[38;5;28mfloat\u001b[39m(girdi))))\n",
      "\u001b[1;31mValueError\u001b[0m: could not convert string to float: 'a'"
     ]
    }
   ],
   "source": [
    "tam_sayıya_çevir()   #bu sefer de string girersek hata verecek"
   ]
  },
  {
   "cell_type": "code",
   "execution_count": 350,
   "id": "4e0affe6-a51a-4246-bbb6-51d42df35f3b",
   "metadata": {},
   "outputs": [],
   "source": [
    "#iki hatadan da kurtulmak için try ve exept komutunu kullanabiliriz yani hatalı durumlarda yine de çalışsın diye\n",
    "def tam_sayıya_çevir():\n",
    "    girdi=input(\"Bir ondalık sayı giriniz\")\n",
    "    #print(\"Yuvarlama işleminin sonucu: {}\".format(round(float(girdi))))\n",
    "    try:\n",
    "        girdi=float(girdi)\n",
    "        print(\"Yuvarlama işleminin sonucu: {}\".format(round(girdi)))\n",
    "    except:\n",
    "        print(\"{} girdisi ondalıklı sayı değildir\".format(girdi))\n",
    "        \n",
    "        "
   ]
  },
  {
   "cell_type": "code",
   "execution_count": 352,
   "id": "1007341e-68b9-48e0-a929-2939ea527042",
   "metadata": {},
   "outputs": [
    {
     "name": "stdin",
     "output_type": "stream",
     "text": [
      "Bir ondalık sayı giriniz a\n"
     ]
    },
    {
     "name": "stdout",
     "output_type": "stream",
     "text": [
      "a girdisi ondalıklı sayı değildir\n"
     ]
    }
   ],
   "source": [
    "tam_sayıya_çevir()"
   ]
  },
  {
   "cell_type": "code",
   "execution_count": 356,
   "id": "d308f2a5-2459-4174-b487-edf14d89f672",
   "metadata": {},
   "outputs": [
    {
     "name": "stdin",
     "output_type": "stream",
     "text": [
      "Bir ondalık sayı giriniz 17.5\n"
     ]
    },
    {
     "name": "stdout",
     "output_type": "stream",
     "text": [
      "Yuvarlama işleminin sonucu: 18\n"
     ]
    }
   ],
   "source": [
    "tam_sayıya_çevir()"
   ]
  },
  {
   "cell_type": "code",
   "execution_count": 1,
   "id": "a43ae428-ec23-443f-87e6-dde6642c1bcd",
   "metadata": {},
   "outputs": [],
   "source": [
    "def tam_sayıya_çevir():\n",
    "    girdi=input(\"Bir ondalık sayı giriniz\")\n",
    "    try:\n",
    "        girdi=float(girdi)\n",
    "    except:\n",
    "        print(\"{} girdisi ondalıklı sayı değildir\".format(girdi))\n",
    "    else:                                                                #else kullanarak da aynı işlemi yapabiliriz.\n",
    "        print(\"Yuvarlama işleminin sonucu: {}\".format(round(girdi)))"
   ]
  },
  {
   "cell_type": "code",
   "execution_count": 360,
   "id": "7301a5d1-0e07-4578-86f1-a9b6cfefd8fc",
   "metadata": {},
   "outputs": [
    {
     "name": "stdin",
     "output_type": "stream",
     "text": [
      "Bir ondalık sayı giriniz 5.88\n"
     ]
    },
    {
     "name": "stdout",
     "output_type": "stream",
     "text": [
      "Yuvarlama işleminin sonucu: 6\n"
     ]
    }
   ],
   "source": [
    "tam_sayıya_çevir()"
   ]
  },
  {
   "cell_type": "code",
   "execution_count": 3,
   "id": "483dda3b-7311-4aba-8f0e-580275ce3c0b",
   "metadata": {},
   "outputs": [],
   "source": [
    "def tam_sayıya_çevir():\n",
    "    girdi=input(\"Bir ondalık sayı giriniz\")\n",
    "    statü=\"\"\n",
    "    try:\n",
    "        girdi=float(girdi)\n",
    "        print(\"Yuvarlama işleminin sonucu: {}\".format(round(girdi)))\n",
    "        statü=\"Başarılı\"\n",
    "    except:\n",
    "        print(\"{} girdisi ondalıklı sayı değildir\".format(girdi))\n",
    "        statü=\"Başarısız\"\n",
    "    finally:                                                 #finally komutu try da çalışsa except de çalışsa sonuç olarak bunu yap anlamına gelir!!!\n",
    "        print(\"Tam sayıya çevirme işlemi {}\".format(statü))"
   ]
  },
  {
   "cell_type": "code",
   "execution_count": 364,
   "id": "93d2a560-e2c0-4d6c-bdcd-054d43467797",
   "metadata": {},
   "outputs": [
    {
     "name": "stdin",
     "output_type": "stream",
     "text": [
      "Bir ondalık sayı giriniz 1.99999\n"
     ]
    },
    {
     "name": "stdout",
     "output_type": "stream",
     "text": [
      "Yuvarlama işleminin sonucu: 2\n",
      "Tam sayıya çevirme işlemi Başarılı\n"
     ]
    }
   ],
   "source": [
    "tam_sayıya_çevir()"
   ]
  },
  {
   "cell_type": "code",
   "execution_count": 5,
   "id": "121842da-c35a-4924-af96-d6be7f9b5cb8",
   "metadata": {},
   "outputs": [],
   "source": [
    "def tam_sayıya_çevir_döngü():\n",
    "    while True:\n",
    "        girdi=input(\"Bir ondalıklı sayı giriniz\")\n",
    "        try:\n",
    "            girdi=float(girdi)\n",
    "            print(\"Yuvarlama işlemi sonucu: {} \".format(round(girdi)))\n",
    "            break\n",
    "        except:\n",
    "            print(\"{} girdisi bir ondalıklı sayı değildir! \".format(girdi))\n",
    "            pass\n",
    "            "
   ]
  },
  {
   "cell_type": "code",
   "execution_count": 7,
   "id": "de340609-ed2a-41c3-a899-d9b9d27f746e",
   "metadata": {},
   "outputs": [
    {
     "name": "stdin",
     "output_type": "stream",
     "text": [
      "Bir ondalıklı sayı giriniz sadasdasd\n"
     ]
    },
    {
     "name": "stdout",
     "output_type": "stream",
     "text": [
      "sadasdasd girdisi bir ondalıklı sayı değildir! \n"
     ]
    },
    {
     "name": "stdin",
     "output_type": "stream",
     "text": [
      "Bir ondalıklı sayı giriniz asdşlajsdyauıksdhasdı\n"
     ]
    },
    {
     "name": "stdout",
     "output_type": "stream",
     "text": [
      "asdşlajsdyauıksdhasdı girdisi bir ondalıklı sayı değildir! \n"
     ]
    },
    {
     "name": "stdin",
     "output_type": "stream",
     "text": [
      "Bir ondalıklı sayı giriniz 5465465\n"
     ]
    },
    {
     "name": "stdout",
     "output_type": "stream",
     "text": [
      "Yuvarlama işlemi sonucu: 5465465 \n"
     ]
    }
   ],
   "source": [
    "tam_sayıya_çevir_döngü()"
   ]
  },
  {
   "cell_type": "markdown",
   "id": "5ece75b4-f528-4226-9ec9-4c129eed8afc",
   "metadata": {},
   "source": [
    "**Exception tipleri**"
   ]
  },
  {
   "cell_type": "code",
   "execution_count": 10,
   "id": "dd417e1e-8168-46fd-8792-3bd4b49e5c0f",
   "metadata": {
    "scrolled": true
   },
   "outputs": [
    {
     "ename": "TypeError",
     "evalue": "unsupported operand type(s) for +: 'int' and 'str'",
     "output_type": "error",
     "traceback": [
      "\u001b[1;31m---------------------------------------------------------------------------\u001b[0m",
      "\u001b[1;31mTypeError\u001b[0m                                 Traceback (most recent call last)",
      "Cell \u001b[1;32mIn[10], line 1\u001b[0m\n\u001b[1;32m----> 1\u001b[0m \u001b[38;5;241m5\u001b[39m\u001b[38;5;241m+\u001b[39m\u001b[38;5;124m\"\u001b[39m\u001b[38;5;124ma\u001b[39m\u001b[38;5;124m\"\u001b[39m\n",
      "\u001b[1;31mTypeError\u001b[0m: unsupported operand type(s) for +: 'int' and 'str'"
     ]
    }
   ],
   "source": [
    "5+\"a\" #tip hatası verir"
   ]
  },
  {
   "cell_type": "code",
   "execution_count": 12,
   "id": "4d90cefa-62c1-4a11-9097-39ee129e1364",
   "metadata": {},
   "outputs": [
    {
     "name": "stdout",
     "output_type": "stream",
     "text": [
      "girilen verilerle işlem yapılamaz\n"
     ]
    }
   ],
   "source": [
    "try:\n",
    "    5+\"a\"\n",
    "except TypeError:          #tip hatası verirse print kısmı çalışacak\n",
    "    print(\"girilen verilerle işlem yapılamaz\")"
   ]
  },
  {
   "cell_type": "code",
   "execution_count": 4,
   "id": "858daadf-eb46-4004-ac10-0c1aa70e1b6a",
   "metadata": {},
   "outputs": [
    {
     "ename": "IndexError",
     "evalue": "list index out of range",
     "output_type": "error",
     "traceback": [
      "\u001b[1;31m---------------------------------------------------------------------------\u001b[0m",
      "\u001b[1;31mIndexError\u001b[0m                                Traceback (most recent call last)",
      "Cell \u001b[1;32mIn[4], line 2\u001b[0m\n\u001b[0;32m      1\u001b[0m liste \u001b[38;5;241m=\u001b[39m []\n\u001b[1;32m----> 2\u001b[0m liste[\u001b[38;5;241m4\u001b[39m]\n",
      "\u001b[1;31mIndexError\u001b[0m: list index out of range"
     ]
    }
   ],
   "source": [
    "liste = []  #index hatası verir\n",
    "liste[4]"
   ]
  },
  {
   "cell_type": "code",
   "execution_count": 18,
   "id": "2581be65-05de-4169-b83d-74557278ac2e",
   "metadata": {},
   "outputs": [
    {
     "name": "stdout",
     "output_type": "stream",
     "text": [
      "listenizde bu index bulunamadı\n"
     ]
    }
   ],
   "source": [
    "try:\n",
    "    liste = []\n",
    "    liste[-1]\n",
    "except IndexError:\n",
    "    print(\"listenizde bu index bulunamadı\")"
   ]
  },
  {
   "cell_type": "code",
   "execution_count": 20,
   "id": "f9560bb0-cf0c-43e0-bd4c-374a6c60b40e",
   "metadata": {},
   "outputs": [
    {
     "name": "stdout",
     "output_type": "stream",
     "text": [
      "kodunuz düzgün çalışmıyor!\n"
     ]
    }
   ],
   "source": [
    "try:\n",
    "    5+\"a\"\n",
    "except IndexError:      #burada TypeError verir ama biz indexerror yazarsak bu exceptin içi çalışmaz     \n",
    "    print(\"girilen verilerle işlem yapılamaz\")\n",
    "except:                 #yukarıdaki except de çalışmazsa burası çalışsın diyoruz\n",
    "    print(\"kodunuz düzgün çalışmıyor!\")"
   ]
  },
  {
   "cell_type": "code",
   "execution_count": 6,
   "id": "c21e1b28-2ccb-4960-b4ab-2a9157820d6b",
   "metadata": {},
   "outputs": [
    {
     "ename": "KeyError",
     "evalue": "'PASS_NO'",
     "output_type": "error",
     "traceback": [
      "\u001b[1;31m---------------------------------------------------------------------------\u001b[0m",
      "\u001b[1;31mKeyError\u001b[0m                                  Traceback (most recent call last)",
      "Cell \u001b[1;32mIn[6], line 5\u001b[0m\n\u001b[0;32m      1\u001b[0m vatandaş\u001b[38;5;241m=\u001b[39m {\n\u001b[0;32m      2\u001b[0m     \u001b[38;5;124m\"\u001b[39m\u001b[38;5;124mAD:\u001b[39m\u001b[38;5;124m\"\u001b[39m: \u001b[38;5;124m\"\u001b[39m\u001b[38;5;124mOğuz\u001b[39m\u001b[38;5;124m\"\u001b[39m,\n\u001b[0;32m      3\u001b[0m     \u001b[38;5;124m\"\u001b[39m\u001b[38;5;124mTC_NO:\u001b[39m\u001b[38;5;124m\"\u001b[39m: \u001b[38;5;124m\"\u001b[39m\u001b[38;5;124m23115645\u001b[39m\u001b[38;5;124m\"\u001b[39m\n\u001b[0;32m      4\u001b[0m }\n\u001b[1;32m----> 5\u001b[0m vatandaş[\u001b[38;5;124m\"\u001b[39m\u001b[38;5;124mPASS_NO\u001b[39m\u001b[38;5;124m\"\u001b[39m]\n",
      "\u001b[1;31mKeyError\u001b[0m: 'PASS_NO'"
     ]
    }
   ],
   "source": [
    "vatandaş= {             #Key (Anahtar) hatası verir \n",
    "    \"AD:\": \"Oğuz\",\n",
    "    \"TC_NO:\": \"23115645\"\n",
    "}\n",
    "vatandaş[\"PASS_NO\"]"
   ]
  },
  {
   "cell_type": "code",
   "execution_count": 24,
   "id": "7d6f2ca5-5240-433f-b4fd-a7b3baa8c7d8",
   "metadata": {},
   "outputs": [
    {
     "name": "stdout",
     "output_type": "stream",
     "text": [
      "Aradığınız anahtar bulunamadı\n"
     ]
    }
   ],
   "source": [
    "vatandaş= {             #Key (Anahtar) hatası verir \n",
    "    \"AD:\": \"Oğuz\",\n",
    "    \"TC_NO:\": \"23115645\"\n",
    "}\n",
    "try:\n",
    "    vatandaş[\"PASS_NO\"]\n",
    "except IndexError:\n",
    "    print(\"indexlemeye çalıştığınız eleman listenin dışında\")\n",
    "except TypeError:\n",
    "    print(\"Doğru tipte veri girmediniz\")\n",
    "except KeyError:\n",
    "    print(\"Aradığınız anahtar bulunamadı\")\n",
    "except:\n",
    "    print(\"Kodunuz düzgün çalışmıyor\")   "
   ]
  },
  {
   "cell_type": "markdown",
   "id": "995fe80d-0a60-4ebf-b8b4-94747c76f64f",
   "metadata": {},
   "source": [
    "**Class Yapısı ve OOP**"
   ]
  },
  {
   "cell_type": "raw",
   "id": "08759271-2916-44e0-8f24-8025a67d8eee",
   "metadata": {},
   "source": [
    "class <Class ismi>() ### class isimleri,genelin aksine büyük harfle başlar (zorunluluk değil)\n",
    "    <class attr>     ### class attribute, oluşturulanın aksine genel değerleri içerir\n",
    "\n",
    "    def__init__(self,<attr>):           ### init,, instantiation yani örneklendirmenin kısaltmasıdır\n",
    "        self.<instance attr> = attr     ### instance attribute'lar, oluşturulan örneğe özgüdür\n",
    "        ...\n",
    "\n",
    "    def<method>(self,<params>):         ### methodlar class'a özgü fonksiyonlardır\n",
    "        ...\n",
    "        return ..."
   ]
  },
  {
   "cell_type": "markdown",
   "id": "46f707fd-f678-46ef-9f56-88183554e755",
   "metadata": {},
   "source": [
    "**Class oluşturma,,Attribute'lar ve Methodlar**"
   ]
  },
  {
   "cell_type": "code",
   "execution_count": 38,
   "id": "32dda3c8-70b7-40d9-af7a-4d518970b60e",
   "metadata": {},
   "outputs": [],
   "source": [
    "class Uçuş():\n",
    "    havayolu = \"THY\""
   ]
  },
  {
   "cell_type": "code",
   "execution_count": 44,
   "id": "9cede39b-0381-44d8-8fa4-fc295e06ac3a",
   "metadata": {},
   "outputs": [],
   "source": [
    "uçuş1=Uçuş()"
   ]
  },
  {
   "cell_type": "code",
   "execution_count": 46,
   "id": "00c3e736-57f6-4d0b-92ca-8c2ffd834a03",
   "metadata": {},
   "outputs": [
    {
     "data": {
      "text/plain": [
       "'THY'"
      ]
     },
     "execution_count": 46,
     "metadata": {},
     "output_type": "execute_result"
    }
   ],
   "source": [
    "uçuş1.havayolu"
   ]
  },
  {
   "cell_type": "code",
   "execution_count": 62,
   "id": "7ffaf83a-6fe0-4213-b5a7-730d10c34e11",
   "metadata": {},
   "outputs": [
    {
     "data": {
      "text/plain": [
       "12"
      ]
     },
     "execution_count": 62,
     "metadata": {},
     "output_type": "execute_result"
    }
   ],
   "source": [
    "3*4"
   ]
  },
  {
   "cell_type": "markdown",
   "id": "9345ce95-f4a7-49e3-a6b0-6acba714b06d",
   "metadata": {},
   "source": [
    "**HATIRLAMA SEANSI**"
   ]
  },
  {
   "cell_type": "code",
   "execution_count": 21,
   "id": "f885a0e5-02ce-4029-81af-792fc54bd5d1",
   "metadata": {},
   "outputs": [
    {
     "data": {
      "text/plain": [
       "'emreee'"
      ]
     },
     "execution_count": 21,
     "metadata": {},
     "output_type": "execute_result"
    }
   ],
   "source": [
    "emre=\"emreee\"\n",
    "emre"
   ]
  },
  {
   "cell_type": "code",
   "execution_count": 43,
   "id": "75bc0d8a-f93b-41ef-b503-8b6c89e4190d",
   "metadata": {},
   "outputs": [
    {
     "name": "stdout",
     "output_type": "stream",
     "text": [
      "a 2\n",
      "b 3\n",
      "4 a\n",
      "3 e\n",
      "2 2\n",
      "1 12\n",
      "45 1\n",
      "c 3\n"
     ]
    }
   ],
   "source": [
    "dizi={\"a\":2,\"b\":3,4:\"a\",3:\"e\",2:2,1:12,45:1,\"c\":3}\n",
    "for x,y in dizi.items():\n",
    "    print(x,y)"
   ]
  },
  {
   "cell_type": "code",
   "execution_count": 49,
   "id": "206c4bee-3e5e-454e-befe-c317056ee578",
   "metadata": {},
   "outputs": [
    {
     "name": "stdout",
     "output_type": "stream",
     "text": [
      "('a', 2)\n",
      "('b', 3)\n",
      "(4, 'a')\n",
      "(3, 'e')\n",
      "(2, 2)\n",
      "(1, 12)\n",
      "(45, 1)\n",
      "('c', 3)\n"
     ]
    }
   ],
   "source": [
    "dizi={\"a\":2,\"b\":3,4:\"a\",3:\"e\",2:2,1:12,45:1,\"c\":3}\n",
    "for x in dizi.items():\n",
    "    print(x)"
   ]
  }
 ],
 "metadata": {
  "kernelspec": {
   "display_name": "Python 3 (ipykernel)",
   "language": "python",
   "name": "python3"
  },
  "language_info": {
   "codemirror_mode": {
    "name": "ipython",
    "version": 3
   },
   "file_extension": ".py",
   "mimetype": "text/x-python",
   "name": "python",
   "nbconvert_exporter": "python",
   "pygments_lexer": "ipython3",
   "version": "3.12.4"
  }
 },
 "nbformat": 4,
 "nbformat_minor": 5
}
